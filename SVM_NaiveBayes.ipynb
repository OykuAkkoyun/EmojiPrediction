{
 "cells": [
  {
   "cell_type": "code",
   "execution_count": 4,
   "metadata": {
    "id": "Dns2xuZbPtAb"
   },
   "outputs": [],
   "source": [
    "import pandas as pd\n",
    "import numpy as np\n",
    "from nltk.tokenize import word_tokenize\n",
    "from nltk import pos_tag\n",
    "from nltk.corpus import stopwords\n",
    "from nltk.stem import WordNetLemmatizer\n",
    "from sklearn.preprocessing import LabelEncoder\n",
    "from collections import defaultdict\n",
    "from nltk.corpus import wordnet as wn\n",
    "from sklearn.feature_extraction.text import TfidfVectorizer\n",
    "from sklearn import model_selection, naive_bayes, svm\n",
    "from sklearn.metrics import accuracy_score\n",
    "\n",
    "# use seaborn plotting defaults\n",
    "import seaborn as sns; sns.set()"
   ]
  },
  {
   "cell_type": "code",
   "execution_count": 5,
   "metadata": {
    "colab": {
     "base_uri": "https://localhost:8080/",
     "height": 204
    },
    "id": "jhvEkWGZP3ew",
    "outputId": "98584e8a-20a6-406e-e467-0baabfd863b7",
    "scrolled": false
   },
   "outputs": [
    {
     "data": {
      "text/html": [
       "<div>\n",
       "<style scoped>\n",
       "    .dataframe tbody tr th:only-of-type {\n",
       "        vertical-align: middle;\n",
       "    }\n",
       "\n",
       "    .dataframe tbody tr th {\n",
       "        vertical-align: top;\n",
       "    }\n",
       "\n",
       "    .dataframe thead th {\n",
       "        text-align: right;\n",
       "    }\n",
       "</style>\n",
       "<table border=\"1\" class=\"dataframe\">\n",
       "  <thead>\n",
       "    <tr style=\"text-align: right;\">\n",
       "      <th></th>\n",
       "      <th>Unnamed: 0</th>\n",
       "      <th>TEXT</th>\n",
       "      <th>Label</th>\n",
       "    </tr>\n",
       "  </thead>\n",
       "  <tbody>\n",
       "    <tr>\n",
       "      <th>0</th>\n",
       "      <td>0</td>\n",
       "      <td>Vacation wasted ! #vacation2017 #photobomb #ti...</td>\n",
       "      <td>JOY</td>\n",
       "    </tr>\n",
       "    <tr>\n",
       "      <th>1</th>\n",
       "      <td>1</td>\n",
       "      <td>Oh Wynwood, youâre so funny! : @user #Wynwoo...</td>\n",
       "      <td>VACATION</td>\n",
       "    </tr>\n",
       "    <tr>\n",
       "      <th>2</th>\n",
       "      <td>2</td>\n",
       "      <td>Been friends since 7th grade. Look at us now w...</td>\n",
       "      <td>LOVE</td>\n",
       "    </tr>\n",
       "    <tr>\n",
       "      <th>3</th>\n",
       "      <td>3</td>\n",
       "      <td>This is what it looks like when someone loves ...</td>\n",
       "      <td>JOY</td>\n",
       "    </tr>\n",
       "    <tr>\n",
       "      <th>4</th>\n",
       "      <td>4</td>\n",
       "      <td>RT @user this white family was invited to a Bl...</td>\n",
       "      <td>JOY</td>\n",
       "    </tr>\n",
       "  </tbody>\n",
       "</table>\n",
       "</div>"
      ],
      "text/plain": [
       "   Unnamed: 0                                               TEXT     Label\n",
       "0           0  Vacation wasted ! #vacation2017 #photobomb #ti...       JOY\n",
       "1           1  Oh Wynwood, youâre so funny! : @user #Wynwoo...  VACATION\n",
       "2           2  Been friends since 7th grade. Look at us now w...      LOVE\n",
       "3           3  This is what it looks like when someone loves ...       JOY\n",
       "4           4  RT @user this white family was invited to a Bl...       JOY"
      ]
     },
     "execution_count": 5,
     "metadata": {},
     "output_type": "execute_result"
    }
   ],
   "source": [
    "text_data_corpus = pd.read_csv('archive/Train3.csv', encoding='latin-1')\n",
    "text_data_corpus.head()"
   ]
  },
  {
   "cell_type": "code",
   "execution_count": 6,
   "metadata": {},
   "outputs": [
    {
     "data": {
      "text/html": [
       "<div>\n",
       "<style scoped>\n",
       "    .dataframe tbody tr th:only-of-type {\n",
       "        vertical-align: middle;\n",
       "    }\n",
       "\n",
       "    .dataframe tbody tr th {\n",
       "        vertical-align: top;\n",
       "    }\n",
       "\n",
       "    .dataframe thead th {\n",
       "        text-align: right;\n",
       "    }\n",
       "</style>\n",
       "<table border=\"1\" class=\"dataframe\">\n",
       "  <thead>\n",
       "    <tr style=\"text-align: right;\">\n",
       "      <th></th>\n",
       "      <th>Unnamed: 0</th>\n",
       "      <th>TEXT</th>\n",
       "      <th>Label</th>\n",
       "    </tr>\n",
       "  </thead>\n",
       "  <tbody>\n",
       "  </tbody>\n",
       "</table>\n",
       "</div>"
      ],
      "text/plain": [
       "Empty DataFrame\n",
       "Columns: [Unnamed: 0, TEXT, Label]\n",
       "Index: []"
      ]
     },
     "execution_count": 6,
     "metadata": {},
     "output_type": "execute_result"
    }
   ],
   "source": [
    "text_data_corpus[text_data_corpus['Label'].isnull()]"
   ]
  },
  {
   "cell_type": "code",
   "execution_count": 7,
   "metadata": {},
   "outputs": [
    {
     "data": {
      "text/html": [
       "<div>\n",
       "<style scoped>\n",
       "    .dataframe tbody tr th:only-of-type {\n",
       "        vertical-align: middle;\n",
       "    }\n",
       "\n",
       "    .dataframe tbody tr th {\n",
       "        vertical-align: top;\n",
       "    }\n",
       "\n",
       "    .dataframe thead th {\n",
       "        text-align: right;\n",
       "    }\n",
       "</style>\n",
       "<table border=\"1\" class=\"dataframe\">\n",
       "  <thead>\n",
       "    <tr style=\"text-align: right;\">\n",
       "      <th></th>\n",
       "      <th>Unnamed: 0</th>\n",
       "      <th>TEXT</th>\n",
       "      <th>Label</th>\n",
       "    </tr>\n",
       "  </thead>\n",
       "  <tbody>\n",
       "    <tr>\n",
       "      <th>69995</th>\n",
       "      <td>69995</td>\n",
       "      <td>Yes, I call Galina \"my Bubie\" Go follow my bea...</td>\n",
       "      <td>JOY</td>\n",
       "    </tr>\n",
       "    <tr>\n",
       "      <th>69996</th>\n",
       "      <td>69996</td>\n",
       "      <td>I SEA you, Seattle @ Ballard Seafood Festival\\n</td>\n",
       "      <td>JOY</td>\n",
       "    </tr>\n",
       "    <tr>\n",
       "      <th>69997</th>\n",
       "      <td>69997</td>\n",
       "      <td>If one of my daughters is wearing this and ask...</td>\n",
       "      <td>LOVE</td>\n",
       "    </tr>\n",
       "    <tr>\n",
       "      <th>69998</th>\n",
       "      <td>69998</td>\n",
       "      <td>Guess who whoop people on THEIR homecoming?! #...</td>\n",
       "      <td>JOY</td>\n",
       "    </tr>\n",
       "    <tr>\n",
       "      <th>69999</th>\n",
       "      <td>69999</td>\n",
       "      <td>We Love you Robbie @ Heritage Memorial Cemeter...</td>\n",
       "      <td>LOVE</td>\n",
       "    </tr>\n",
       "  </tbody>\n",
       "</table>\n",
       "</div>"
      ],
      "text/plain": [
       "       Unnamed: 0                                               TEXT Label\n",
       "69995       69995  Yes, I call Galina \"my Bubie\" Go follow my bea...   JOY\n",
       "69996       69996    I SEA you, Seattle @ Ballard Seafood Festival\\n   JOY\n",
       "69997       69997  If one of my daughters is wearing this and ask...  LOVE\n",
       "69998       69998  Guess who whoop people on THEIR homecoming?! #...   JOY\n",
       "69999       69999  We Love you Robbie @ Heritage Memorial Cemeter...  LOVE"
      ]
     },
     "execution_count": 7,
     "metadata": {},
     "output_type": "execute_result"
    }
   ],
   "source": [
    "text_data_corpus.tail()"
   ]
  },
  {
   "cell_type": "code",
   "execution_count": 8,
   "metadata": {},
   "outputs": [
    {
     "data": {
      "text/html": [
       "<div>\n",
       "<style scoped>\n",
       "    .dataframe tbody tr th:only-of-type {\n",
       "        vertical-align: middle;\n",
       "    }\n",
       "\n",
       "    .dataframe tbody tr th {\n",
       "        vertical-align: top;\n",
       "    }\n",
       "\n",
       "    .dataframe thead th {\n",
       "        text-align: right;\n",
       "    }\n",
       "</style>\n",
       "<table border=\"1\" class=\"dataframe\">\n",
       "  <thead>\n",
       "    <tr style=\"text-align: right;\">\n",
       "      <th></th>\n",
       "      <th>TEXT</th>\n",
       "      <th>Label</th>\n",
       "    </tr>\n",
       "  </thead>\n",
       "  <tbody>\n",
       "    <tr>\n",
       "      <th>0</th>\n",
       "      <td>Vacation wasted ! #vacation2017 #photobomb #ti...</td>\n",
       "      <td>JOY</td>\n",
       "    </tr>\n",
       "    <tr>\n",
       "      <th>1</th>\n",
       "      <td>Oh Wynwood, youâre so funny! : @user #Wynwoo...</td>\n",
       "      <td>VACATION</td>\n",
       "    </tr>\n",
       "    <tr>\n",
       "      <th>2</th>\n",
       "      <td>Been friends since 7th grade. Look at us now w...</td>\n",
       "      <td>LOVE</td>\n",
       "    </tr>\n",
       "    <tr>\n",
       "      <th>3</th>\n",
       "      <td>This is what it looks like when someone loves ...</td>\n",
       "      <td>JOY</td>\n",
       "    </tr>\n",
       "    <tr>\n",
       "      <th>4</th>\n",
       "      <td>RT @user this white family was invited to a Bl...</td>\n",
       "      <td>JOY</td>\n",
       "    </tr>\n",
       "  </tbody>\n",
       "</table>\n",
       "</div>"
      ],
      "text/plain": [
       "                                                TEXT     Label\n",
       "0  Vacation wasted ! #vacation2017 #photobomb #ti...       JOY\n",
       "1  Oh Wynwood, youâre so funny! : @user #Wynwoo...  VACATION\n",
       "2  Been friends since 7th grade. Look at us now w...      LOVE\n",
       "3  This is what it looks like when someone loves ...       JOY\n",
       "4  RT @user this white family was invited to a Bl...       JOY"
      ]
     },
     "execution_count": 8,
     "metadata": {},
     "output_type": "execute_result"
    }
   ],
   "source": [
    "text_data_corpus = text_data_corpus.drop(['Unnamed: 0'], axis = 1)\n",
    "text_data_corpus.head()"
   ]
  },
  {
   "cell_type": "code",
   "execution_count": 9,
   "metadata": {},
   "outputs": [],
   "source": [
    "mapping = pd.read_csv(\"archive/Mapping2.csv\")\n",
    "mapping = mapping.drop(['Unnamed: 0'], axis = 1)\n",
    "emoticons = mapping['emoticons'].tolist()"
   ]
  },
  {
   "cell_type": "code",
   "execution_count": 10,
   "metadata": {},
   "outputs": [],
   "source": [
    "mapp = {}\n",
    "for emo in range(0,len(emoticons)):\n",
    "    mapp[emo]= emoticons[emo]"
   ]
  },
  {
   "cell_type": "code",
   "execution_count": 11,
   "metadata": {},
   "outputs": [
    {
     "data": {
      "text/plain": [
       "{0: '😜', 1: '📸', 2: '💙', 3: '❤'}"
      ]
     },
     "execution_count": 11,
     "metadata": {},
     "output_type": "execute_result"
    }
   ],
   "source": [
    "mapp"
   ]
  },
  {
   "cell_type": "code",
   "execution_count": 12,
   "metadata": {
    "scrolled": true
   },
   "outputs": [
    {
     "data": {
      "text/plain": [
       "<AxesSubplot:xlabel='Label', ylabel='count'>"
      ]
     },
     "execution_count": 12,
     "metadata": {},
     "output_type": "execute_result"
    },
    {
     "data": {
      "image/png": "[encoded data removed]",
      "text/plain": [
       "<Figure size 432x288 with 1 Axes>"
      ]
     },
     "metadata": {},
     "output_type": "display_data"
    }
   ],
   "source": [
    "sns.countplot(x=text_data_corpus['Label'], data=text_data_corpus)\n"
   ]
  },
  {
   "cell_type": "code",
   "execution_count": 13,
   "metadata": {
    "colab": {
     "base_uri": "https://localhost:8080/"
    },
    "id": "XPvWPmyCSI84",
    "outputId": "37cf31d6-347e-43f3-92de-c883ff4e6bd8"
   },
   "outputs": [
    {
     "name": "stderr",
     "output_type": "stream",
     "text": [
      "[nltk_data] Downloading package punkt to\n",
      "[nltk_data]     /Users/tcobalkaya/nltk_data...\n",
      "[nltk_data]   Package punkt is already up-to-date!\n"
     ]
    },
    {
     "data": {
      "text/plain": [
       "True"
      ]
     },
     "execution_count": 13,
     "metadata": {},
     "output_type": "execute_result"
    }
   ],
   "source": [
    "import nltk\n",
    "nltk.download('punkt')"
   ]
  },
  {
   "cell_type": "code",
   "execution_count": 14,
   "metadata": {
    "id": "K7Pr9VwURHiS"
   },
   "outputs": [],
   "source": [
    "text_data_corpus['TEXT'] = [word_tokenize(entry) for entry in text_data_corpus['TEXT']]"
   ]
  },
  {
   "cell_type": "code",
   "execution_count": 15,
   "metadata": {},
   "outputs": [
    {
     "data": {
      "text/plain": [
       "0        [Vacation, wasted, !, #, vacation2017, #, phot...\n",
       "1        [Oh, Wynwood, ,, youâre, so, funny, !, :, @,...\n",
       "2        [Been, friends, since, 7th, grade, ., Look, at...\n",
       "3        [This, is, what, it, looks, like, when, someon...\n",
       "4        [RT, @, user, this, white, family, was, invite...\n",
       "                               ...                        \n",
       "69995    [Yes, ,, I, call, Galina, ``, my, Bubie, '', G...\n",
       "69996    [I, SEA, you, ,, Seattle, @, Ballard, Seafood,...\n",
       "69997    [If, one, of, my, daughters, is, wearing, this...\n",
       "69998    [Guess, who, whoop, people, on, THEIR, homecom...\n",
       "69999    [We, Love, you, Robbie, @, Heritage, Memorial,...\n",
       "Name: TEXT, Length: 70000, dtype: object"
      ]
     },
     "execution_count": 15,
     "metadata": {},
     "output_type": "execute_result"
    }
   ],
   "source": [
    "text_data_corpus['TEXT']"
   ]
  },
  {
   "cell_type": "code",
   "execution_count": 12,
   "metadata": {
    "colab": {
     "base_uri": "https://localhost:8080/"
    },
    "id": "QofGUUBHSZKF",
    "outputId": "6b1e06ba-dcf0-4223-e586-34b56edaa6e4"
   },
   "outputs": [
    {
     "name": "stderr",
     "output_type": "stream",
     "text": [
      "[nltk_data] Downloading package wordnet to\n",
      "[nltk_data]     /Users/tcobalkaya/nltk_data...\n",
      "[nltk_data]   Package wordnet is already up-to-date!\n"
     ]
    },
    {
     "data": {
      "text/plain": [
       "True"
      ]
     },
     "execution_count": 12,
     "metadata": {},
     "output_type": "execute_result"
    }
   ],
   "source": [
    "import nltk\n",
    "nltk.download('wordnet')\n"
   ]
  },
  {
   "cell_type": "code",
   "execution_count": 13,
   "metadata": {
    "id": "DvhnaEZKRcLC"
   },
   "outputs": [],
   "source": [
    "tag_map = defaultdict(lambda : wn.NOUN)\n",
    "tag_map['J'] = wn.ADJ\n",
    "tag_map['V'] = wn.VERB\n",
    "tag_map['R'] = wn.ADV"
   ]
  },
  {
   "cell_type": "code",
   "execution_count": 14,
   "metadata": {
    "colab": {
     "base_uri": "https://localhost:8080/"
    },
    "id": "YRtKYqVkShrA",
    "outputId": "ecd17225-0058-4e2c-86d1-b6376be0a88e"
   },
   "outputs": [
    {
     "name": "stderr",
     "output_type": "stream",
     "text": [
      "[nltk_data] Downloading package averaged_perceptron_tagger to\n",
      "[nltk_data]     /Users/tcobalkaya/nltk_data...\n",
      "[nltk_data]   Package averaged_perceptron_tagger is already up-to-\n",
      "[nltk_data]       date!\n",
      "[nltk_data] Downloading package stopwords to\n",
      "[nltk_data]     /Users/tcobalkaya/nltk_data...\n",
      "[nltk_data]   Package stopwords is already up-to-date!\n"
     ]
    },
    {
     "data": {
      "text/plain": [
       "True"
      ]
     },
     "execution_count": 14,
     "metadata": {},
     "output_type": "execute_result"
    }
   ],
   "source": [
    "import nltk\n",
    "nltk.download('averaged_perceptron_tagger')\n",
    "nltk.download('stopwords')"
   ]
  },
  {
   "cell_type": "code",
   "execution_count": 15,
   "metadata": {
    "id": "C7zkms7pRhax"
   },
   "outputs": [],
   "source": [
    "#train data corpus\n",
    "for index,entry in enumerate(text_data_corpus['TEXT']):\n",
    "    # Declaring Empty List to store the words that follow the rules for this step\n",
    "    Final_words = []\n",
    "    # Initializing WordNetLemmatizer()\n",
    "    word_Lemmatized = WordNetLemmatizer()\n",
    "    # pos_tag function below will provide the 'tag' i.e if the word is Noun(N) or Verb(V) or something else.\n",
    "    for word, tag in pos_tag(entry):\n",
    "        # Below condition is to check for Stop words and consider only alphabets\n",
    "        if word not in stopwords.words('english') and word.isalpha():\n",
    "            word_Final = word_Lemmatized.lemmatize(word,tag_map[tag[0]])\n",
    "            Final_words.append(word_Final)\n",
    "    # The final processed set of words for each iteration will be stored in 'text_final'\n",
    "    text_data_corpus.loc[index,'TEXT_FINAL'] = str(Final_words)"
   ]
  },
  {
   "cell_type": "code",
   "execution_count": 16,
   "metadata": {
    "colab": {
     "base_uri": "https://localhost:8080/",
     "height": 204
    },
    "id": "fg5ORdjOYxIN",
    "outputId": "620cfeb1-2b42-4b44-8dd8-22c5ff132157"
   },
   "outputs": [
    {
     "data": {
      "text/html": [
       "<div>\n",
       "<style scoped>\n",
       "    .dataframe tbody tr th:only-of-type {\n",
       "        vertical-align: middle;\n",
       "    }\n",
       "\n",
       "    .dataframe tbody tr th {\n",
       "        vertical-align: top;\n",
       "    }\n",
       "\n",
       "    .dataframe thead th {\n",
       "        text-align: right;\n",
       "    }\n",
       "</style>\n",
       "<table border=\"1\" class=\"dataframe\">\n",
       "  <thead>\n",
       "    <tr style=\"text-align: right;\">\n",
       "      <th></th>\n",
       "      <th>TEXT</th>\n",
       "      <th>Label</th>\n",
       "      <th>TEXT_FINAL</th>\n",
       "    </tr>\n",
       "  </thead>\n",
       "  <tbody>\n",
       "    <tr>\n",
       "      <th>0</th>\n",
       "      <td>[Vacation, wasted, !, #, vacation2017, #, phot...</td>\n",
       "      <td>JOY</td>\n",
       "      <td>['Vacation', 'waste', 'photobomb', 'tired', 'v...</td>\n",
       "    </tr>\n",
       "    <tr>\n",
       "      <th>1</th>\n",
       "      <td>[Oh, Wynwood, ,, youâre, so, funny, !, :, @,...</td>\n",
       "      <td>VACATION</td>\n",
       "      <td>['Oh', 'Wynwood', 'funny', 'user', 'Wynwood', ...</td>\n",
       "    </tr>\n",
       "    <tr>\n",
       "      <th>2</th>\n",
       "      <td>[Been, friends, since, 7th, grade, ., Look, at...</td>\n",
       "      <td>LOVE</td>\n",
       "      <td>['Been', 'friends', 'since', 'grade', 'Look', ...</td>\n",
       "    </tr>\n",
       "    <tr>\n",
       "      <th>3</th>\n",
       "      <td>[This, is, what, it, looks, like, when, someon...</td>\n",
       "      <td>JOY</td>\n",
       "      <td>['This', 'look', 'like', 'someone', 'love', 'u...</td>\n",
       "    </tr>\n",
       "    <tr>\n",
       "      <th>4</th>\n",
       "      <td>[RT, @, user, this, white, family, was, invite...</td>\n",
       "      <td>JOY</td>\n",
       "      <td>['RT', 'user', 'white', 'family', 'invite', 'B...</td>\n",
       "    </tr>\n",
       "  </tbody>\n",
       "</table>\n",
       "</div>"
      ],
      "text/plain": [
       "                                                TEXT     Label  \\\n",
       "0  [Vacation, wasted, !, #, vacation2017, #, phot...       JOY   \n",
       "1  [Oh, Wynwood, ,, youâre, so, funny, !, :, @,...  VACATION   \n",
       "2  [Been, friends, since, 7th, grade, ., Look, at...      LOVE   \n",
       "3  [This, is, what, it, looks, like, when, someon...       JOY   \n",
       "4  [RT, @, user, this, white, family, was, invite...       JOY   \n",
       "\n",
       "                                          TEXT_FINAL  \n",
       "0  ['Vacation', 'waste', 'photobomb', 'tired', 'v...  \n",
       "1  ['Oh', 'Wynwood', 'funny', 'user', 'Wynwood', ...  \n",
       "2  ['Been', 'friends', 'since', 'grade', 'Look', ...  \n",
       "3  ['This', 'look', 'like', 'someone', 'love', 'u...  \n",
       "4  ['RT', 'user', 'white', 'family', 'invite', 'B...  "
      ]
     },
     "execution_count": 16,
     "metadata": {},
     "output_type": "execute_result"
    }
   ],
   "source": [
    "text_data_corpus.head()"
   ]
  },
  {
   "cell_type": "code",
   "execution_count": 17,
   "metadata": {
    "id": "_e88jYUgUN1Z"
   },
   "outputs": [],
   "source": [
    "Train_X, Test_X, Train_Y, Test_Y = model_selection.train_test_split(text_data_corpus['TEXT_FINAL'],\n",
    "                                                                    text_data_corpus['Label'],\n",
    "                                                                    test_size=0.2, random_state=42)"
   ]
  },
  {
   "cell_type": "code",
   "execution_count": 18,
   "metadata": {
    "id": "vkuZQsDzUYEE"
   },
   "outputs": [],
   "source": [
    "Encoder = LabelEncoder()\n",
    "Train_Y = Encoder.fit_transform(Train_Y)\n",
    "Test_Y = Encoder.fit_transform(Test_Y)"
   ]
  },
  {
   "cell_type": "code",
   "execution_count": 19,
   "metadata": {},
   "outputs": [
    {
     "data": {
      "text/plain": [
       "array([3, 0, 2, ..., 1, 0, 0])"
      ]
     },
     "execution_count": 19,
     "metadata": {},
     "output_type": "execute_result"
    }
   ],
   "source": [
    "Train_Y"
   ]
  },
  {
   "cell_type": "code",
   "execution_count": 20,
   "metadata": {},
   "outputs": [
    {
     "data": {
      "text/plain": [
       "array([0, 1, 2, ..., 3, 3, 1])"
      ]
     },
     "execution_count": 20,
     "metadata": {},
     "output_type": "execute_result"
    }
   ],
   "source": [
    "Test_Y"
   ]
  },
  {
   "cell_type": "code",
   "execution_count": 21,
   "metadata": {
    "id": "hyU-IsfmUdwV"
   },
   "outputs": [],
   "source": [
    "Tfidf_vect = TfidfVectorizer(max_features = 5000)\n",
    "Tfidf_vect.fit(text_data_corpus['TEXT_FINAL'])\n",
    "\n",
    "Train_X_Tfidf = Tfidf_vect.transform(Train_X)\n",
    "Test_X_Tfidf = Tfidf_vect.transform(Test_X)"
   ]
  },
  {
   "cell_type": "code",
   "execution_count": 22,
   "metadata": {},
   "outputs": [
    {
     "data": {
      "text/html": [
       "<div>\n",
       "<style scoped>\n",
       "    .dataframe tbody tr th:only-of-type {\n",
       "        vertical-align: middle;\n",
       "    }\n",
       "\n",
       "    .dataframe tbody tr th {\n",
       "        vertical-align: top;\n",
       "    }\n",
       "\n",
       "    .dataframe thead th {\n",
       "        text-align: right;\n",
       "    }\n",
       "</style>\n",
       "<table border=\"1\" class=\"dataframe\">\n",
       "  <thead>\n",
       "    <tr style=\"text-align: right;\">\n",
       "      <th></th>\n",
       "      <th>aaron</th>\n",
       "      <th>ab</th>\n",
       "      <th>abby</th>\n",
       "      <th>abc</th>\n",
       "      <th>able</th>\n",
       "      <th>about</th>\n",
       "      <th>aboutlastnight</th>\n",
       "      <th>abs</th>\n",
       "      <th>absolute</th>\n",
       "      <th>absolutely</th>\n",
       "      <th>...</th>\n",
       "      <th>yup</th>\n",
       "      <th>zach</th>\n",
       "      <th>zen</th>\n",
       "      <th>zero</th>\n",
       "      <th>zeta</th>\n",
       "      <th>zion</th>\n",
       "      <th>zombie</th>\n",
       "      <th>zone</th>\n",
       "      <th>zoo</th>\n",
       "      <th>zumba</th>\n",
       "    </tr>\n",
       "  </thead>\n",
       "  <tbody>\n",
       "    <tr>\n",
       "      <th>0</th>\n",
       "      <td>0.0</td>\n",
       "      <td>0.0</td>\n",
       "      <td>0.0</td>\n",
       "      <td>0.0</td>\n",
       "      <td>0.0</td>\n",
       "      <td>0.0</td>\n",
       "      <td>0.0</td>\n",
       "      <td>0.0</td>\n",
       "      <td>0.0</td>\n",
       "      <td>0.0</td>\n",
       "      <td>...</td>\n",
       "      <td>0.0</td>\n",
       "      <td>0.0</td>\n",
       "      <td>0.0</td>\n",
       "      <td>0.0</td>\n",
       "      <td>0.0</td>\n",
       "      <td>0.0</td>\n",
       "      <td>0.0</td>\n",
       "      <td>0.0</td>\n",
       "      <td>0.0</td>\n",
       "      <td>0.0</td>\n",
       "    </tr>\n",
       "    <tr>\n",
       "      <th>1</th>\n",
       "      <td>0.0</td>\n",
       "      <td>0.0</td>\n",
       "      <td>0.0</td>\n",
       "      <td>0.0</td>\n",
       "      <td>0.0</td>\n",
       "      <td>0.0</td>\n",
       "      <td>0.0</td>\n",
       "      <td>0.0</td>\n",
       "      <td>0.0</td>\n",
       "      <td>0.0</td>\n",
       "      <td>...</td>\n",
       "      <td>0.0</td>\n",
       "      <td>0.0</td>\n",
       "      <td>0.0</td>\n",
       "      <td>0.0</td>\n",
       "      <td>0.0</td>\n",
       "      <td>0.0</td>\n",
       "      <td>0.0</td>\n",
       "      <td>0.0</td>\n",
       "      <td>0.0</td>\n",
       "      <td>0.0</td>\n",
       "    </tr>\n",
       "    <tr>\n",
       "      <th>2</th>\n",
       "      <td>0.0</td>\n",
       "      <td>0.0</td>\n",
       "      <td>0.0</td>\n",
       "      <td>0.0</td>\n",
       "      <td>0.0</td>\n",
       "      <td>0.0</td>\n",
       "      <td>0.0</td>\n",
       "      <td>0.0</td>\n",
       "      <td>0.0</td>\n",
       "      <td>0.0</td>\n",
       "      <td>...</td>\n",
       "      <td>0.0</td>\n",
       "      <td>0.0</td>\n",
       "      <td>0.0</td>\n",
       "      <td>0.0</td>\n",
       "      <td>0.0</td>\n",
       "      <td>0.0</td>\n",
       "      <td>0.0</td>\n",
       "      <td>0.0</td>\n",
       "      <td>0.0</td>\n",
       "      <td>0.0</td>\n",
       "    </tr>\n",
       "    <tr>\n",
       "      <th>3</th>\n",
       "      <td>0.0</td>\n",
       "      <td>0.0</td>\n",
       "      <td>0.0</td>\n",
       "      <td>0.0</td>\n",
       "      <td>0.0</td>\n",
       "      <td>0.0</td>\n",
       "      <td>0.0</td>\n",
       "      <td>0.0</td>\n",
       "      <td>0.0</td>\n",
       "      <td>0.0</td>\n",
       "      <td>...</td>\n",
       "      <td>0.0</td>\n",
       "      <td>0.0</td>\n",
       "      <td>0.0</td>\n",
       "      <td>0.0</td>\n",
       "      <td>0.0</td>\n",
       "      <td>0.0</td>\n",
       "      <td>0.0</td>\n",
       "      <td>0.0</td>\n",
       "      <td>0.0</td>\n",
       "      <td>0.0</td>\n",
       "    </tr>\n",
       "    <tr>\n",
       "      <th>4</th>\n",
       "      <td>0.0</td>\n",
       "      <td>0.0</td>\n",
       "      <td>0.0</td>\n",
       "      <td>0.0</td>\n",
       "      <td>0.0</td>\n",
       "      <td>0.0</td>\n",
       "      <td>0.0</td>\n",
       "      <td>0.0</td>\n",
       "      <td>0.0</td>\n",
       "      <td>0.0</td>\n",
       "      <td>...</td>\n",
       "      <td>0.0</td>\n",
       "      <td>0.0</td>\n",
       "      <td>0.0</td>\n",
       "      <td>0.0</td>\n",
       "      <td>0.0</td>\n",
       "      <td>0.0</td>\n",
       "      <td>0.0</td>\n",
       "      <td>0.0</td>\n",
       "      <td>0.0</td>\n",
       "      <td>0.0</td>\n",
       "    </tr>\n",
       "    <tr>\n",
       "      <th>...</th>\n",
       "      <td>...</td>\n",
       "      <td>...</td>\n",
       "      <td>...</td>\n",
       "      <td>...</td>\n",
       "      <td>...</td>\n",
       "      <td>...</td>\n",
       "      <td>...</td>\n",
       "      <td>...</td>\n",
       "      <td>...</td>\n",
       "      <td>...</td>\n",
       "      <td>...</td>\n",
       "      <td>...</td>\n",
       "      <td>...</td>\n",
       "      <td>...</td>\n",
       "      <td>...</td>\n",
       "      <td>...</td>\n",
       "      <td>...</td>\n",
       "      <td>...</td>\n",
       "      <td>...</td>\n",
       "      <td>...</td>\n",
       "      <td>...</td>\n",
       "    </tr>\n",
       "    <tr>\n",
       "      <th>55995</th>\n",
       "      <td>0.0</td>\n",
       "      <td>0.0</td>\n",
       "      <td>0.0</td>\n",
       "      <td>0.0</td>\n",
       "      <td>0.0</td>\n",
       "      <td>0.0</td>\n",
       "      <td>0.0</td>\n",
       "      <td>0.0</td>\n",
       "      <td>0.0</td>\n",
       "      <td>0.0</td>\n",
       "      <td>...</td>\n",
       "      <td>0.0</td>\n",
       "      <td>0.0</td>\n",
       "      <td>0.0</td>\n",
       "      <td>0.0</td>\n",
       "      <td>0.0</td>\n",
       "      <td>0.0</td>\n",
       "      <td>0.0</td>\n",
       "      <td>0.0</td>\n",
       "      <td>0.0</td>\n",
       "      <td>0.0</td>\n",
       "    </tr>\n",
       "    <tr>\n",
       "      <th>55996</th>\n",
       "      <td>0.0</td>\n",
       "      <td>0.0</td>\n",
       "      <td>0.0</td>\n",
       "      <td>0.0</td>\n",
       "      <td>0.0</td>\n",
       "      <td>0.0</td>\n",
       "      <td>0.0</td>\n",
       "      <td>0.0</td>\n",
       "      <td>0.0</td>\n",
       "      <td>0.0</td>\n",
       "      <td>...</td>\n",
       "      <td>0.0</td>\n",
       "      <td>0.0</td>\n",
       "      <td>0.0</td>\n",
       "      <td>0.0</td>\n",
       "      <td>0.0</td>\n",
       "      <td>0.0</td>\n",
       "      <td>0.0</td>\n",
       "      <td>0.0</td>\n",
       "      <td>0.0</td>\n",
       "      <td>0.0</td>\n",
       "    </tr>\n",
       "    <tr>\n",
       "      <th>55997</th>\n",
       "      <td>0.0</td>\n",
       "      <td>0.0</td>\n",
       "      <td>0.0</td>\n",
       "      <td>0.0</td>\n",
       "      <td>0.0</td>\n",
       "      <td>0.0</td>\n",
       "      <td>0.0</td>\n",
       "      <td>0.0</td>\n",
       "      <td>0.0</td>\n",
       "      <td>0.0</td>\n",
       "      <td>...</td>\n",
       "      <td>0.0</td>\n",
       "      <td>0.0</td>\n",
       "      <td>0.0</td>\n",
       "      <td>0.0</td>\n",
       "      <td>0.0</td>\n",
       "      <td>0.0</td>\n",
       "      <td>0.0</td>\n",
       "      <td>0.0</td>\n",
       "      <td>0.0</td>\n",
       "      <td>0.0</td>\n",
       "    </tr>\n",
       "    <tr>\n",
       "      <th>55998</th>\n",
       "      <td>0.0</td>\n",
       "      <td>0.0</td>\n",
       "      <td>0.0</td>\n",
       "      <td>0.0</td>\n",
       "      <td>0.0</td>\n",
       "      <td>0.0</td>\n",
       "      <td>0.0</td>\n",
       "      <td>0.0</td>\n",
       "      <td>0.0</td>\n",
       "      <td>0.0</td>\n",
       "      <td>...</td>\n",
       "      <td>0.0</td>\n",
       "      <td>0.0</td>\n",
       "      <td>0.0</td>\n",
       "      <td>0.0</td>\n",
       "      <td>0.0</td>\n",
       "      <td>0.0</td>\n",
       "      <td>0.0</td>\n",
       "      <td>0.0</td>\n",
       "      <td>0.0</td>\n",
       "      <td>0.0</td>\n",
       "    </tr>\n",
       "    <tr>\n",
       "      <th>55999</th>\n",
       "      <td>0.0</td>\n",
       "      <td>0.0</td>\n",
       "      <td>0.0</td>\n",
       "      <td>0.0</td>\n",
       "      <td>0.0</td>\n",
       "      <td>0.0</td>\n",
       "      <td>0.0</td>\n",
       "      <td>0.0</td>\n",
       "      <td>0.0</td>\n",
       "      <td>0.0</td>\n",
       "      <td>...</td>\n",
       "      <td>0.0</td>\n",
       "      <td>0.0</td>\n",
       "      <td>0.0</td>\n",
       "      <td>0.0</td>\n",
       "      <td>0.0</td>\n",
       "      <td>0.0</td>\n",
       "      <td>0.0</td>\n",
       "      <td>0.0</td>\n",
       "      <td>0.0</td>\n",
       "      <td>0.0</td>\n",
       "    </tr>\n",
       "  </tbody>\n",
       "</table>\n",
       "<p>56000 rows × 5000 columns</p>\n",
       "</div>"
      ],
      "text/plain": [
       "       aaron   ab  abby  abc  able  about  aboutlastnight  abs  absolute  \\\n",
       "0        0.0  0.0   0.0  0.0   0.0    0.0             0.0  0.0       0.0   \n",
       "1        0.0  0.0   0.0  0.0   0.0    0.0             0.0  0.0       0.0   \n",
       "2        0.0  0.0   0.0  0.0   0.0    0.0             0.0  0.0       0.0   \n",
       "3        0.0  0.0   0.0  0.0   0.0    0.0             0.0  0.0       0.0   \n",
       "4        0.0  0.0   0.0  0.0   0.0    0.0             0.0  0.0       0.0   \n",
       "...      ...  ...   ...  ...   ...    ...             ...  ...       ...   \n",
       "55995    0.0  0.0   0.0  0.0   0.0    0.0             0.0  0.0       0.0   \n",
       "55996    0.0  0.0   0.0  0.0   0.0    0.0             0.0  0.0       0.0   \n",
       "55997    0.0  0.0   0.0  0.0   0.0    0.0             0.0  0.0       0.0   \n",
       "55998    0.0  0.0   0.0  0.0   0.0    0.0             0.0  0.0       0.0   \n",
       "55999    0.0  0.0   0.0  0.0   0.0    0.0             0.0  0.0       0.0   \n",
       "\n",
       "       absolutely  ...  yup  zach  zen  zero  zeta  zion  zombie  zone  zoo  \\\n",
       "0             0.0  ...  0.0   0.0  0.0   0.0   0.0   0.0     0.0   0.0  0.0   \n",
       "1             0.0  ...  0.0   0.0  0.0   0.0   0.0   0.0     0.0   0.0  0.0   \n",
       "2             0.0  ...  0.0   0.0  0.0   0.0   0.0   0.0     0.0   0.0  0.0   \n",
       "3             0.0  ...  0.0   0.0  0.0   0.0   0.0   0.0     0.0   0.0  0.0   \n",
       "4             0.0  ...  0.0   0.0  0.0   0.0   0.0   0.0     0.0   0.0  0.0   \n",
       "...           ...  ...  ...   ...  ...   ...   ...   ...     ...   ...  ...   \n",
       "55995         0.0  ...  0.0   0.0  0.0   0.0   0.0   0.0     0.0   0.0  0.0   \n",
       "55996         0.0  ...  0.0   0.0  0.0   0.0   0.0   0.0     0.0   0.0  0.0   \n",
       "55997         0.0  ...  0.0   0.0  0.0   0.0   0.0   0.0     0.0   0.0  0.0   \n",
       "55998         0.0  ...  0.0   0.0  0.0   0.0   0.0   0.0     0.0   0.0  0.0   \n",
       "55999         0.0  ...  0.0   0.0  0.0   0.0   0.0   0.0     0.0   0.0  0.0   \n",
       "\n",
       "       zumba  \n",
       "0        0.0  \n",
       "1        0.0  \n",
       "2        0.0  \n",
       "3        0.0  \n",
       "4        0.0  \n",
       "...      ...  \n",
       "55995    0.0  \n",
       "55996    0.0  \n",
       "55997    0.0  \n",
       "55998    0.0  \n",
       "55999    0.0  \n",
       "\n",
       "[56000 rows x 5000 columns]"
      ]
     },
     "execution_count": 22,
     "metadata": {},
     "output_type": "execute_result"
    }
   ],
   "source": [
    "pd.DataFrame(Train_X_Tfidf.toarray(), columns = Tfidf_vect.get_feature_names())"
   ]
  },
  {
   "cell_type": "code",
   "execution_count": 23,
   "metadata": {
    "colab": {
     "base_uri": "https://localhost:8080/"
    },
    "id": "7_vmopZEUj3G",
    "outputId": "ca6b9ba1-cd5c-4ec4-ec32-6c8d6b180272"
   },
   "outputs": [
    {
     "name": "stdout",
     "output_type": "stream",
     "text": [
      "{'vacation': 4683, 'waste': 4789, 'photobomb': 3388, 'tired': 4513, 'miami': 2876, 'port': 3483, 'oh': 3199, 'wynwood': 4946, 'funny': 1799, 'user': 4678, 'art': 205, 'flowers': 1705, 'vibes': 4715, 'been': 394, 'friends': 1775, 'since': 4046, 'grade': 1921, 'look': 2652, 'follow': 1713, 'dream': 1345, 'love': 2675, 'this': 4473, 'like': 2593, 'someone': 4138, 'puppy': 3588, 'brother': 618, 'rt': 3819, 'white': 4851, 'family': 1573, 'invite': 2302, 'black': 468, 'never': 3080, 'laugh': 2520, 'hard': 2029, 'life': 2583, 'track': 4558, 'season': 3915, 'ready': 3654, 'for': 1724, 'ya': 4953, 'university': 4658, 'word': 4918, 'merry': 2858, 'christmas': 884, 'filthy': 1648, 'little': 2618, 'animal': 145, 'wearing': 4806, 'ugly': 4639, 'sweater': 4354, 'feature': 1607, 'weston': 4834, 'toronto': 4540, 'head': 2058, 'home': 2136, 'akron': 78, 'city': 906, 'hospital': 2168, 'story': 4266, 'on': 3215, 'saturday': 3877, 'collins': 976, 'ave': 263, 'beach': 367, 'fl': 1678, 'ladies': 2486, 'contact': 1024, 'me': 2823, 'to': 4517, 'join': 2380, 'in': 2248, 'dog': 1307, 'human': 2193, 'north': 3138, 'gate': 1825, 'husband': 2206, 'live': 2621, 'episode': 1480, 'javits': 2349, 'center': 787, 'ca': 682, 'wait': 4755, 'meet': 2835, 'happy': 2017, 'california': 693, 'two': 4631, 'hang': 2008, 'halloween': 1997, 'day': 1182, 'washingtondc': 4788, 'lincoln': 2601, 'memorial': 2845, 'make': 2737, 'mi': 2874, 'flight': 1695, 'hour': 2175, 'fly': 1707, 'time': 4505, 'meal': 2826, 'shin': 3993, 'such': 4304, 'talented': 4385, 'cast': 763, 'broadway': 609, 'days': 1183, 'sandiego': 3864, 'nofilter': 3123, 'las': 2508, 'vegas': 4696, 'these': 4461, 'hit': 2117, 'ride': 3749, 'happiest': 2015, 'sunshine': 4328, 'water': 4793, 'lake': 2492, 'you': 4979, 'know': 2472, 'gon': 1894, 'na': 3029, 'show': 4021, 'glitter': 1872, 'amazing': 114, 'premiere': 3515, 'link': 2605, 'my': 3018, 'bio': 454, 'webster': 4810, 'something': 4139, 'ordinary': 3238, 'daly': 1156, 'baby': 289, 'so': 4115, 'hot': 2171, 'right': 3754, 'tbt': 4406, 'throwbackthursday': 4487, 'and': 136, 'quick': 3608, 'cut': 1137, 'nigga': 3106, 'get': 1842, 'comfortable': 988, 'south': 4167, 'bass': 352, 'island': 2314, 'first': 1669, 'year': 4962, 'ashland': 219, 'oregon': 3239, 'mt': 2993, 'ski': 4070, 'area': 192, 'see': 3925, 'tomorrow': 4527, 'monday': 2953, 'business': 670, 'child': 858, 'bear': 376, 'cambridge': 699, 'christian': 883, 'school': 3896, 'talk': 4386, 'handsome': 2007, 'best': 422, 'friend': 1773, 'think': 4469, 'keep': 2424, 'celebrate': 781, 'aunt': 251, 'amp': 128, 'uncle': 4644, 'steve': 4253, 'anniversary': 149, 'beautiful': 382, 'lighting': 2591, 'cream': 1093, 'grateful': 1939, 'one': 3217, 'oak': 3173, 'lawn': 2529, 'illinois': 2230, 'another': 154, 'shoe': 4002, 'picture': 3404, 'detail': 1244, 'inside': 2275, 'disneyland': 1281, 'always': 109, 'who': 4853, 'say': 3885, 'angel': 141, 'when': 4842, 'orlando': 3242, 'florida': 1702, 'miss': 2918, 'much': 2997, 'bo': 506, 'stadium': 4222, 'lounge': 2674, 'def': 1213, 'move': 2986, 'restaurant': 3725, 'guy': 1980, 'crack': 1085, 'mississippi': 2924, 'starting': 4235, 'new': 3083, 'thing': 4467, 'hollywood': 2134, 'it': 2320, 'cry': 1118, 'summer': 4311, 'degree': 1217, 'spell': 4186, 'last': 2510, 'name': 3034, 'wrong': 4940, 'let': 2571, 'today': 4519, 'hike': 2100, 'river': 3765, 'past': 3319, 'spend': 4187, 'take': 4380, 'gig': 1853, 'could': 1060, 'come': 985, 'eat': 1406, 'some': 4134, 'nyc': 3170, 'photo': 3387, 'dope': 1328, 'photographer': 3392, 'world': 4927, 'not': 3146, 'way': 4798, 'sorry': 4157, 'the': 4450, 'phillips': 3382, 'collection': 974, 'welcome': 4822, 'lady': 2487, 'tim': 4504, 'playing': 3446, 'coat': 960, 'goal': 1881, 'tonight': 4532, 'rooftop': 3801, 'birthday': 458, 'favorite': 1596, 'niece': 3105, 'we': 4803, 'enjoyed': 1467, 'fall': 1566, 'bless': 476, 'highly': 2098, 'recommend': 3668, 'brick': 589, 'bagel': 303, 'deli': 1220, 'thanksgiving': 4446, 'leftover': 2553, 'people': 3355, 'smiley': 4095, 'gardens': 1823, 'brooklyn': 614, 'vote': 4747, 'hey': 2089, 'least': 2546, 'pride': 3534, 'congrats': 1014, 'bunch': 655, 'next': 3097, 'wo': 4900, 'without': 4897, 'great': 1942, 'houston': 2178, 'every': 1507, 'airport': 76, 'want': 4774, 'sun': 4315, 'blind': 480, 'bug': 647, 'boston': 541, 'advice': 55, 'biz': 467, 'officially': 3196, 'go': 1880, 'party': 3313, 'club': 947, 'totally': 4543, 'cool': 1039, 'thank': 4443, 'bridal': 591, 'october': 3190, 'embassy': 1446, 'suites': 4309, 'coachella': 955, 'weekend': 4817, 'music': 3012, 'arts': 210, 'festival': 1630, 'trail': 4564, 'running': 3826, 'top': 4537, 'franklin': 1754, 'sunday': 4318, 'funday': 1796, 'york': 4977, 'three': 4481, 'ornament': 3244, 'tree': 4579, 'there': 4460, 'perk': 3367, 'far': 1582, 'west': 4828, 'katy': 2420, 'texas': 4436, 'sunset': 4326, 'just': 2407, 'annoy': 152, 'burger': 659, 'austin': 254, 'tx': 4632, 'quality': 3602, 'anna': 147, 'hope': 2161, 'realize': 3658, 'workout': 4924, 'buddy': 642, 'dress': 1350, 'foot': 1722, 'ninja': 3116, 'drink': 1352, 'dark': 1169, 'chocolate': 874, 'pure': 3591, 'heaven': 2071, 'drinking': 1353, 'nothing': 3149, 'sexy': 3962, 'san': 3860, 'francisco': 1752, 'special': 4181, 'how': 2179, 'guys': 1981, 'indie': 2260, 'heart': 2067, 'soul': 4159, 'furniture': 1802, 'shopping': 4009, 'brew': 585, 'evening': 1502, 'town': 4552, 'universal': 4655, 'studio': 4287, 'studios': 4288, 'experience': 1532, 'of': 3191, 'bean': 374, 'volume': 4744, 'hosted': 2170, 'by': 680, 'peace': 3340, 'strength': 4275, 'atlanta': 237, 'red': 3673, 'carpet': 752, 'actress': 31, 'choose': 877, 'ridge': 3751, 'hill': 2103, 'princess': 3537, 'museum': 3010, 'ny': 3169, 'em': 1444, 'american': 121, 'play': 3440, 'date': 1173, 'lola': 2642, 'columbia': 982, 'missouri': 2925, 'line': 2603, 'dance': 1162, 'dallas': 1155, 'they': 4464, 'prepare': 3518, 'week': 4816, 'good': 1897, 'saloon': 3851, 'hall': 1996, 'lax': 2531, 'los': 2660, 'angeles': 142, 'international': 2293, 'that': 4448, 'order': 3237, 'girl': 1859, 'deserve': 1237, 'night': 3108, 'bar': 332, 'july': 2400, 'pool': 3473, 'hotel': 2172, 'te': 4409, 'amo': 125, 'really': 3659, 'pretty': 3530, 'finally': 1652, 'morning': 2974, 'sure': 4342, 'ivoted': 2329, 'memphis': 2848, 'tennessee': 4428, 'christopher': 889, 'tap': 4393, 'tavern': 4401, 'appreciation': 181, 'spa': 4173, 'pedicure': 3347, 'queen': 3605, 'must': 3015, 'face': 1548, 'service': 3949, 'taylor': 4403, 'rob': 3778, 'try': 4602, 'professional': 3552, 'thanks': 4445, 'team': 4414, 'sew': 3960, 'friday': 1769, 'only': 3221, 'text': 4437, 'appointment': 179, 'homecoming': 2137, 'believe': 404, 'ago': 67, 'litty': 2619, 'shoutout': 4020, 'capture': 733, 'airlines': 75, 'grapevine': 1938, 'diner': 1264, 'goodvibes': 1903, 'she': 3981, 'hat': 2045, 'coast': 957, 'plaza': 3448, 'back': 292, 'fire': 1662, 'away': 276, 'toyota': 4556, 'amphitheatre': 130, 'fair': 1557, 'oc': 3185, 'galveston': 1814, 'familytime': 1575, 'followme': 1715, 'favs': 1598, 'arthur': 207, 'louisiana': 2672, 'magic': 2726, 'chicago': 853, 'banks': 329, 'freestyle': 1761, 'hiphop': 2111, 'village': 4724, 'josh': 2390, 'pub': 3574, 'nh': 3099, 'proud': 3568, 'smile': 4093, 'smiles': 4094, 'glow': 1876, 'louis': 2671, 'wear': 4805, 'shirt': 3999, 'moon': 2970, 'stars': 4232, 'losangeles': 2661, 'portland': 3485, 'rapper': 3642, 'singer': 4048, 'artist': 208, 'born': 538, 'nuff': 3160, 'said': 3843, 'tire': 4512, 'motor': 2979, 'drag': 1341, 'happen': 2013, 'voice': 4741, 'student': 4286, 'vocal': 4739, 'warm': 4779, 'ups': 4669, 'enjoying': 1468, 'fun': 1795, 'da': 1146, 'hahaha': 1989, 'washington': 4787, 'tacoma': 4374, 'man': 2748, 'amherst': 124, 'ohio': 3200, 'do': 1297, 'pink': 3419, 'wet': 4837, 'expect': 1530, 'salute': 3855, 'blue': 496, 'usa': 4675, 'loop': 2657, 'sea': 3909, 'christmaslights': 886, 'seaworld': 3919, 'gosh': 1913, 'dreaming': 1347, 'perfect': 3360, 'pant': 3296, 'find': 1654, 'pair': 3285, 'park': 3305, 'instagram': 2282, 'snapchat': 4106, 'somehow': 4137, 'together': 4521, 'imagine': 2238, 'newyork': 3095, 'john': 2377, 'lucky': 2701, 'call': 694, 'niagara': 3100, 'falls': 1568, 'ontario': 3222, 'naples': 3040, 'savage': 3881, 'concert': 1006, 'all': 95, 'need': 3068, 'homies': 2145, 'outreach': 3259, 'ministries': 2907, 'fan': 1577, 'box': 557, 'leave': 2548, 'twin': 4623, 'point': 3463, 'oyster': 3270, 'pork': 3482, 'belly': 409, 'fried': 1772, 'rice': 3742, 'roast': 3776, 'pepper': 3358, 'other': 3246, 'mama': 2746, 'chapter': 814, 'god': 1884, 'allow': 98, 'cheese': 837, 'opportunity': 3229, 'jimmy': 2372, 'carson': 756, 'count': 1061, 'harbor': 2027, 'grand': 1929, 'epic': 1479, 'nashville': 3042, 'philadelphia': 3380, 'pennsylvania': 3352, 'spent': 4189, 'rain': 3624, 'enjoy': 1466, 'rich': 3743, 'raw': 3647, 'low': 2691, 'pic': 3398, 'high': 2094, 'bff': 438, 'end': 1457, 'actually': 33, 'alex': 89, 'mystic': 3028, 'pizza': 3427, 'movie': 2988, 'cute': 1138, 'celebrating': 782, 'happiness': 2016, 'daily': 1151, 'lit': 2616, 'feeling': 1616, 'no': 3119, 'game': 1815, 'richardson': 3745, 'mid': 2883, 'century': 791, 'gifts': 1852, 'sale': 3847, 'add': 37, 'massive': 2797, 'our': 3250, 'pain': 3281, 'as': 213, 'nevada': 3079, 'indian': 2257, 'state': 4237, 'breaking': 578, 'bad': 298, 'carlsbad': 746, 'el': 1431, 'wizarding': 4899, 'harry': 2037, 'potter': 3497, 'boo': 524, 'graduate': 1923, 'remember': 3694, 'anything': 163, 'nine': 3115, 'boy': 559, 'snowy': 4113, 'amaze': 113, 'mickey': 2882, 'precious': 3511, 'soon': 4149, 'bridge': 594, 'fast': 1590, 'hand': 2003, 'dig': 1259, 'bag': 302, 'also': 106, 'super': 4331, 'xmas': 4949, 'picoftheday': 3403, 'nice': 3102, 'breeze': 583, 'put': 3599, 'mind': 2904, 'watch': 4791, 'video': 4720, 'newmusic': 3088, 'rap': 3640, 'arizona': 195, 'sky': 4075, 'trump': 4598, 'imwithher': 2247, 'throwback': 4486, 'thursday': 4492, 'cause': 777, 'everybody': 1508, 'chris': 881, 'hottest': 2173, 'single': 4050, 'had': 1987, 'repost': 3704, 'lets': 2572, 'achieve': 19, 'fave': 1594, 'latergram': 2517, 'disney': 1280, 'kingdom': 2457, 'election': 1432, 'selfies': 3933, 'post': 3492, 'instead': 2285, 'begin': 398, 'lot': 2665, 'paris': 3304, 'hell': 2078, 'kitchen': 2464, 'manhattan': 2755, 'glad': 1867, 'im': 2234, 'alive': 94, 'lol': 2641, 'bum': 652, 'yes': 4970, 'nerd': 3075, 'laguna': 2491, 'price': 3532, 'bottle': 544, 'wine': 4882, 'bake': 308, 'father': 1592, 'buffalo': 645, 'trip': 4589, 'heat': 2069, 'arena': 193, 'fact': 1552, 'bit': 463, 'breakfast': 577, 'bts': 635, 'styling': 4297, 'pregnant': 3513, 'bestie': 425, 'datenight': 1174, 'stella': 4249, 'downtown': 1338, 'grow': 1967, 'irvine': 2310, 'spectrum': 4183, 'maine': 2734, 'afraid': 60, 'open': 3226, 'eye': 1543, 'photograph': 3391, 'courtesy': 1069, 'road': 3773, 'often': 3197, 'behind': 400, 'rocks': 3787, 'shit': 4000, 'shot': 4016, 'absolutely': 9, 'place': 3429, 'filter': 1647, 'spot': 4204, 'everyone': 1510, 'bruce': 625, 'wayne': 4799, 'kansas': 2412, 'coach': 954, 'mike': 2892, 'aka': 77, 'comic': 990, 'winner': 4886, 'got': 1914, 'rd': 3649, 'iowa': 2305, 'farm': 1585, 'major': 2736, 'presence': 3521, 'joe': 2376, 'crab': 1084, 'shack': 3965, 'official': 3195, 'page': 3280, 'sunsets': 4327, 'old': 3207, 'homemade': 2138, 'french': 1765, 'steal': 4247, 'making': 2743, 'bond': 520, 'obsessed': 3181, 'cousin': 1072, 'christmaseve': 885, 'cover': 1076, 'scenic': 3893, 'goodbye': 1898, 'truly': 4597, 'fabulous': 1547, 'until': 4661, 'straight': 4268, 'catch': 769, 'harrypotter': 2038, 'bank': 328, 'georgia': 1841, 'person': 3369, 'dogs': 1308, 'excited': 1522, 'what': 4839, 'pleasant': 3449, 'surprise': 4345, 'stop': 4262, 'space': 4174, 'lose': 2662, 'many': 2759, 'st': 4221, 'patty': 3333, 'hillary': 2104, 'carolina': 751, 'rolling': 3794, 'golf': 1893, 'saratoga': 3874, 'springs': 4212, 'weddings': 4813, 'big': 444, 'marshmallow': 2786, 'beauty': 384, 'pattern': 3332, 'diy': 1291, 'dana': 1161, 'photoshoot': 3396, 'bed': 388, 'bath': 354, 'luv': 2709, 'hood': 2153, 'wit': 4894, 'wed': 4811, 'flower': 1704, 'stone': 4261, 'purpose': 3594, 'even': 1501, 'gorgeous': 1912, 'plus': 3456, 'feel': 1614, 'light': 2588, 'mother': 2976, 'mom': 2945, 'brown': 623, 'african': 62, 'drive': 1355, 'montgomery': 2965, 'can': 709, 'awesome': 278, 'loveher': 2677, 'chili': 861, 'grill': 1956, 'blessed': 477, 'creek': 1099, 'canyon': 726, 'jesus': 2366, 'gt': 1971, 'jeep': 2356, 'daughter': 1175, 'ai': 72, 'till': 4503, 'kill': 2445, 'radio': 3621, 'star': 4230, 'have': 2051, 'pittsburgh': 3426, 'spectacular': 4182, 'book': 525, 'sf': 3963, 'reppin': 3707, 'sundayfunday': 4319, 'holiday': 2127, 'deep': 1210, 'connecticut': 1019, 'thx': 4493, 'rave': 3646, 'saint': 3845, 'greek': 1945, 'church': 892, 'oneworldtradecenter': 3219, 'trade': 4560, 'starwars': 4236, 'girls': 1862, 'rock': 3781, 'rainy': 3626, 'edit': 1420, 'campaign': 704, 'wild': 4866, 'brian': 588, 'appear': 174, 'denver': 1231, 'cuz': 1143, 'pay': 3336, 'attention': 242, 'perfection': 3361, 'utah': 4681, 'minute': 2913, 'wisconsin': 4889, 'lovely': 2681, 'thai': 4440, 'chicken': 855, 'salad': 3846, 'noodle': 3129, 'popular': 3479, 'admit': 45, 'deal': 1190, 'reality': 3657, 'sometimes': 4140, 'omg': 3213, 'custom': 1135, 'piece': 3407, 'now': 3155, 'rest': 3724, 'june': 2402, 'curl': 1131, 'hold': 2125, 'supreme': 4340, 'he': 2057, 'silly': 4039, 'community': 997, 'drunk': 1365, 'comment': 994, 'fam': 1569, 'conversation': 1031, 'hook': 2155, 'your': 4982, 'coworker': 1081, 'at': 230, 'front': 1782, 'is': 2312, 'priceless': 3533, 'max': 2811, 'hills': 2106, 'stock': 4259, 'exchange': 1520, 'america': 120, 'mood': 2969, 'record': 3669, 'shout': 4019, 'ish': 2313, 'class': 914, 'ps': 3571, 'watching': 4792, 'sunrise': 4325, 'mountain': 2982, 'foodporn': 1719, 'craft': 1087, 'public': 3575, 'house': 2177, 'squad': 4215, 'fort': 1736, 'start': 4233, 'journey': 2393, 'daze': 1186, 'cape': 728, 'national': 3047, 'carry': 755, 'shoulder': 4018, 'an': 133, 'auntie': 252, 'young': 4980, 'view': 4721, 'marie': 2769, 'learn': 2544, 'nutrition': 3167, 'chi': 851, 'cocoa': 965, 'books': 526, 'incredible': 2252, 'candy': 717, 'youth': 4985, 'project': 3558, 'model': 2939, 'arrive': 203, 'block': 485, 'host': 2169, 'metro': 2868, 'neon': 3073, 'mondaymotivation': 2954, 'rodeo': 3789, 'cook': 1034, 'off': 3192, 'strawberry': 4271, 'mansion': 2758, 'zoo': 4998, 'garden': 1822, 'shoot': 4004, 'vlog': 4738, 'check': 831, 'bring': 600, 'sundays': 4320, 'empire': 1452, 'neighborhood': 3072, 'headed': 2059, 'out': 3251, 'daddy': 1149, 'nyfw': 3172, 'ever': 1505, 'ran': 3634, 'legendary': 2557, 'hear': 2066, 'sunny': 4323, 'help': 2081, 'win': 4877, 'captured': 734, 'matthew': 2808, 'amc': 118, 'corner': 1048, 'well': 4823, 'maybe': 2813, 'bahamas': 305, 'body': 514, 'fresh': 1766, 'desert': 1236, 'already': 104, 'thang': 4442, 'pavilion': 3335, 'work': 4920, 'crazy': 1092, 'sister': 4057, 'squadgoals': 4216, 'premium': 3516, 'outlets': 3258, 'long': 2647, 'part': 3311, 'lil': 2595, 'storm': 4265, 'anytime': 164, 'tomato': 4525, 'benefit': 417, 'college': 975, 'roll': 3791, 'status': 4243, 'cycle': 1144, 'coffee': 969, 'summit': 4314, 'virginia': 4731, 'bristol': 604, 'tn': 4516, 'full': 1792, 'joy': 2394, 'care': 740, 'clean': 920, 'car': 735, 'gift': 1851, 'worry': 4928, 'shop': 4007, 'blast': 474, 'dave': 1176, 'buster': 671, 'early': 1396, 'mercy': 2855, 'kappa': 2415, 'delta': 1224, 'because': 386, 'else': 1443, 'scottsdale': 3900, 'dinner': 1266, 'therapy': 4459, 'use': 4676, 'honestly': 2148, 'survive': 4348, 'death': 1195, 'valley': 4686, 'clemson': 925, 'fellow': 1622, 'fish': 1670, 'santa': 3869, 'monica': 2957, 'barnes': 339, 'noble': 3121, 'george': 1839, 'duke': 1373, 'jazz': 2352, 'birth': 457, 'nj': 3118, 'jersey': 2363, 'dj': 1292, 'shores': 4013, 'taking': 4383, 'kid': 2441, 'parent': 3303, 'run': 3824, 'process': 3544, 'gem': 1833, 'selfie': 3932, 'yet': 4972, 'sing': 4047, 'worship': 4929, 'salmon': 3849, 'jake': 2337, 'rescue': 3712, 'theatre': 4452, 'awards': 274, 'with': 4895, 'square': 4217, 'color': 978, 'oz': 3271, 'getting': 1845, 'dad': 1148, 'ur': 4672, 'fav': 1593, 'cookies': 1036, 'veterans': 4711, 'serve': 3948, 'prepping': 3519, 'niagarafalls': 3101, 'canadian': 711, 'side': 4032, 'here': 2085, 'tennis': 4429, 'receive': 3664, 'blog': 486, 'tribute': 4585, 'wave': 4796, 'yesterday': 4971, 'annapolis': 148, 'maryland': 2792, 'bae': 300, 'woman': 4905, 'conquer': 1021, 'skateboard': 4067, 'mission': 2922, 'ocean': 3187, 'those': 4477, 'exist': 1529, 'angle': 144, 'michigan': 2881, 'champions': 803, 'league': 2541, 'still': 4256, 'iphone': 2307, 'snippet': 4110, 'interview': 2296, 'describe': 1235, 'too': 4535, 'vermont': 4706, 'elk': 1440, 'rocky': 3788, 'pop': 3475, 'explain': 1533, 'fur': 1801, 'sweet': 4356, 'support': 4335, 'positivevibes': 3489, 'wcw': 4801, 'song': 4143, 'games': 1817, 'hello': 2080, 'harper': 2032, 'cutie': 1141, 'ton': 4529, 'georgetown': 1840, 'anaheim': 135, 'rose': 3808, 'dome': 1316, 'apartments': 170, 'upper': 4668, 'holland': 2131, 'crown': 1113, 'heights': 2077, 'list': 2613, 'whole': 4855, 'magical': 2727, 'sparkly': 4178, 'treat': 4576, 'midtown': 2887, 'east': 1401, 'freedom': 1760, 'ring': 3756, 'merica': 2856, 'but': 673, 'seriously': 3947, 'being': 402, 'spirits': 4195, 'vape': 4691, 'free': 1759, 'sherman': 3990, 'oaks': 3175, 'united': 4653, 'states': 4240, 'saw': 3884, 'instructor': 2287, 'ranch': 3635, 'cafe': 687, 'ward': 4777, 'rochester': 3780, 'bruh': 626, 'mesa': 2860, 'forest': 1727, 'fell': 1620, 'asleep': 223, 'within': 4896, 'important': 2242, 'son': 4142, 'nick': 3103, 'boyfriend': 560, 'shade': 3966, 'board': 507, 'exactly': 1516, 'adventure': 53, 'style': 4295, 'section': 3922, 'outfit': 3256, 'per': 3359, 'sign': 4036, 'lift': 2587, 'marriage': 2780, 'claire': 911, 'andrew': 139, 'indiana': 2258, 'leo': 2567, 'destination': 1243, 'wonder': 4907, 'gallery': 1813, 'guess': 1974, 'mustang': 3016, 'fry': 1785, 'giggle': 1854, 'glendale': 1871, 'sneaky': 4109, 'peak': 3343, 'fourthofjuly': 1746, 'firework': 1667, 'would': 4932, 'missing': 2921, 'everyday': 1509, 'die': 1254, 'border': 535, 'chevy': 850, 'truck': 4594, 'cruise': 1114, 'beer': 395, 'wonderful': 4908, 'bc': 364, 'labor': 2481, 'around': 201, 'belong': 411, 'drummer': 1364, 'mine': 2905, 'la': 2479, 'lemonade': 2565, 'field': 1635, 'double': 1332, 'cup': 1127, 'lean': 2543, 'give': 1863, 'performance': 3364, 'weird': 4820, 'loud': 2668, 'normal': 3135, 'smoky': 4100, 'rebel': 3662, 'felt': 1624, 'near': 3062, 'interesting': 2291, 'kind': 2452, 'independenceday': 2256, 'unitedstates': 4654, 'loved': 2676, 'colorado': 979, 'mill': 2897, 'nature': 3053, 'infinity': 2264, 'jump': 2401, 'grandcanyon': 1930, 'four': 1744, 'wall': 4764, 'horseshoe': 2167, 'bend': 416, 'comedy': 986, 'walls': 4765, 'edm': 1423, 'working': 4923, 'middle': 2884, 'lacma': 2485, 'lights': 2592, 'starbucks': 4231, 'lover': 2684, 'bay': 360, 'newport': 3090, 'bb': 362, 'siesta': 4033, 'key': 2436, 'golden': 1891, 'pocket': 3461, 'royal': 3817, 'babygirl': 291, 'trap': 4569, 'tv': 4618, 'ahead': 70, 'tryna': 4604, 'summertime': 4313, 'avi': 267, 'nv': 3168, 'wander': 4772, 'phone': 3386, 'strip': 4279, 'universe': 4657, 'equal': 1482, 'okay': 3203, 'walt': 4768, 'ootd': 3225, 'hair': 1991, 'flash': 1683, 'holly': 2133, 'jolly': 2384, 'christmastree': 888, 'cousins': 1073, 'serious': 3946, 'mile': 2893, 'train': 4566, 'motorcycle': 2980, 'its': 2325, 'trust': 4600, 'fat': 1591, 'clothes': 941, 'detroit': 1246, 'beyond': 436, 'hate': 2046, 'grocery': 1960, 'mvp': 3017, 'kyle': 2478, 'closing': 940, 'cost': 1054, 'credit': 1098, 'save': 3883, 'fee': 1612, 'apply': 178, 'november': 3154, 'may': 2812, 'honest': 2147, 'roasters': 3777, 'huntsville': 2202, 'central': 788, 'please': 3450, 'email': 1445, 'info': 2265, 'courtyard': 1071, 'marriott': 2782, 'sc': 3887, 'capitol': 730, 'crew': 1102, 'seattle': 3918, 'almost': 100, 'co': 953, 'ho': 2119, 'smart': 4089, 'riverfront': 3768, 'athletic': 234, 'repping': 3708, 'roadtrip': 3775, 'reminder': 3696, 'quote': 3614, 'drop': 1359, 'visit': 4733, 'figure': 1642, 'act': 25, 'better': 431, 'cat': 767, 'meeting': 2836, 'paul': 3334, 'session': 3953, 'hometown': 2142, 'calorie': 697, 'sports': 4203, 'amor': 126, 'outback': 3252, 'steakhouse': 4246, 'mcm': 2821, 'loss': 2663, 'connection': 1020, 'proof': 3563, 'cuddle': 1122, 'haven': 2052, 'towers': 4551, 'johnny': 2378, 'rockets': 3784, 'hoboken': 2120, 'late': 2513, 'brunch': 627, 'earlier': 1395, 'mr': 2990, 'kiddos': 2443, 'twice': 4621, 'newest': 3086, 'member': 2842, 'raise': 3628, 'enough': 1469, 'money': 2956, 'buy': 678, 'tournament': 4548, 'ticket': 4494, 'homie': 2144, 'turnt': 4615, 'write': 4938, 'came': 700, 'reservation': 3713, 'shawty': 3980, 'opening': 3227, 'til': 4502, 'tha': 4439, 'records': 3671, 'presidential': 3526, 'ra': 3615, 'program': 3555, 'ad': 34, 'earth': 1399, 'might': 2890, 'shrimp': 4026, 'spicy': 4191, 'mary': 2791, 'patriotic': 3331, 'cupcake': 1128, 'bday': 365, 'isle': 2316, 'yacht': 4954, 'breathe': 581, 'heal': 2063, 'yoga': 4975, 'spice': 4190, 'everything': 1511, 'donut': 1324, 'doing': 1311, 'fancy': 1578, 'woodstock': 4917, 'hopefully': 2162, 'blessing': 478, 'lakelife': 2493, 'forever': 1728, 'chillin': 863, 'typical': 4636, 'emily': 1449, 'semester': 3937, 'baltimore': 322, 'county': 1065, 'eagle': 1392, 'up': 4662, 'shine': 3994, 'deer': 1211, 'minnesota': 2909, 'more': 2972, 'thankful': 4444, 'coming': 992, 'announcement': 151, 'creative': 1096, 'friendship': 1777, 'mobile': 2935, 'arlington': 197, 'cap': 727, 'about': 5, 'sacramento': 3836, 'auditorium': 247, 'dec': 1197, 'turkey': 4613, 'king': 2456, 'eight': 1429, 'month': 2966, 'bowling': 556, 'alley': 97, 'lanes': 2503, 'latte': 2518, 'espresso': 1490, 'cross': 1108, 'cumberland': 1126, 'made': 2721, 'anyone': 162, 'dim': 1261, 'reason': 3661, 'tower': 4550, 'repostregramapp': 3706, 'shake': 3969, 'relaxation': 3691, 'nc': 3060, 'goat': 1883, 'second': 3920, 'marina': 2771, 'walk': 4760, 'across': 23, 'bored': 537, 'fridaynight': 1770, 'crop': 1107, 'padre': 3279, 'vegan': 4695, 'include': 2251, 'choice': 875, 'moment': 2947, 'appreciate': 180, 'code': 968, 'murphy': 3007, 'hiking': 2101, 'favourite': 1597, 'firefly': 1664, 'jfk': 2370, 'tourist': 4547, 'kennedy': 2431, 'dunkin': 1379, 'donuts': 1325, 'horse': 2166, 'supporting': 4337, 'spread': 4208, 'health': 2064, 'probably': 3542, 'smell': 4091, 'present': 3522, 'canada': 710, 'promise': 3561, 'regret': 3685, 'healthy': 2065, 'greenville': 1950, 'country': 1064, 'crowd': 1112, 'fuck': 1787, 'click': 928, 'killed': 2446, 'station': 4241, 'bright': 596, 'thought': 4479, 'seagull': 3911, 'though': 4478, 'crochet': 1106, 'install': 2283, 'twist': 4628, 'braid': 567, 'punch': 3585, 'bowl': 555, 'social': 4120, 'minneapolis': 2908, 'button': 677, 'cincinnati': 895, 'wake': 4758, 'job': 2375, 'jk': 2374, 'doin': 1310, 'pictures': 3405, 'converse': 1032, 'views': 4722, 'surf': 4343, 'customer': 1136, 'cutest': 1140, 'tiger': 4499, 'fbf': 1601, 'complete': 1002, 'crest': 1101, 'ymca': 4973, 'gain': 1809, 'signature': 4037, 'epcot': 1478, 'store': 4264, 'manager': 2750, 'apple': 176, 'cider': 893, 'crisp': 1105, 'costume': 1056, 'available': 261, 'lifetime': 2586, 'row': 3816, 'stage': 4224, 'series': 3945, 'parade': 3301, 'ta': 4370, 'congress': 1017, 'current': 1132, 'modern': 2941, 'yeah': 4961, 'si': 4029, 'queens': 3606, 'product': 3549, 'killin': 2448, 'listen': 2614, 'apparently': 173, 'fraternity': 1755, 'tiny': 4510, 'kick': 2438, 'casino': 762, 'roller': 3792, 'bitch': 464, 'tongue': 4531, 'kno': 2470, 'dick': 1251, 'jelly': 2359, 'needle': 3070, 'small': 4088, 'chat': 825, 'mount': 2981, 'vernon': 4707, 'duty': 1385, 'ol': 3206, 'eyes': 1545, 'bird': 455, 'passion': 3318, 'was': 4785, 'asf': 216, 'honor': 2151, 'martin': 2788, 'jr': 2395, 'acrylic': 24, 'luna': 2704, 'loves': 2686, 'ice': 2213, 'whenever': 4843, 'machine': 2717, 'sit': 4060, 'dont': 1323, 'haircut': 1993, 'beginning': 399, 'protect': 3566, 'og': 3198, 'pack': 3275, 'awww': 283, 'kayak': 2422, 'office': 3194, 'grille': 1957, 'hmu': 2118, 'cruz': 1117, 'loving': 2690, 'press': 3527, 'preview': 3531, 'seeing': 3926, 'sound': 4161, 'lakes': 2494, 'miramar': 2916, 'later': 2516, 'gucci': 1973, 'tucson': 4607, 'az': 285, 'boat': 509, 'ball': 318, 'academy': 10, 'pal': 3286, 'ae': 56, 'minus': 2912, 'matthews': 2809, 'justice': 2408, 'chick': 854, 'baes': 301, 'latepost': 2515, 'album': 85, 'download': 1337, 'stream': 4272, 'gramercy': 1928, 'basic': 347, 'daytona': 1185, 'sad': 3838, 'centennial': 786, 'if': 2221, 'smash': 4090, 'number': 3162, 'beam': 373, 'height': 2076, 'industry': 2262, 'set': 3954, 'squirrel': 4220, 'oil': 3201, 'wrap': 4934, 'client': 929, 'dm': 1295, 'tb': 4404, 'trying': 4603, 'paper': 3300, 'pull': 3579, 'prospect': 3565, 'galleria': 1812, 'reserve': 3714, 'zombie': 4996, 'kinda': 2453, 'recent': 3665, 'chestnut': 849, 'happyplace': 2025, 'camera': 702, 'air': 74, 'luke': 2703, 'jones': 2386, 'sd': 3906, 'room': 3802, 'campus': 708, 'vision': 4732, 'mod': 2937, 'daniel': 1167, 'rn': 3771, 'smoke': 4098, 'escape': 1487, 'damn': 1159, 'fool': 1721, 'report': 3703, 'original': 3241, 'flow': 1703, 'crossfit': 1109, 'beacon': 372, 'street': 4273, 'tattoos': 4400, 'beard': 377, 'amy': 132, 'admire': 44, 'nail': 3032, 'cantina': 723, 'lem': 2563, 'tell': 4422, 'bout': 552, 'fran': 1750, 'westin': 4833, 'cadillac': 685, 'gone': 1895, 'be': 366, 'chipotle': 871, 'mexican': 2870, 'cake': 688, 'boss': 540, 'carlo': 744, 'bakery': 312, 'times': 4506, 'real': 3655, 'nye': 3171, 'keeping': 2427, 'courthouse': 1070, 'cold': 970, 'weather': 4807, 'forget': 1730, 'mills': 2901, 'allstate': 99, 'grandpa': 1934, 'final': 1650, 'tour': 4546, 'gettin': 1844, 'perform': 3363, 'yay': 4959, 'dumbo': 1377, 'sneaker': 4108, 'espn': 1489, 'wide': 4861, 'couch': 1059, 'update': 4664, 'tea': 4410, 'fayetteville': 1599, 'gray': 1941, 'stunning': 4292, 'metropolitan': 2869, 'faith': 1564, 'holidays': 2129, 'marine': 2772, 'navy': 3057, 'nationalboyfriendday': 3048, 'brewing': 587, 'problem': 3543, 'whatever': 4840, 'bang': 326, 'pleasure': 3451, 'couple': 1066, 'market': 2776, 'toys': 4557, 'tot': 4541, 'highland': 2095, 'mn': 2933, 'soldiers': 4131, 'monument': 2968, 'decision': 1204, 'sundaze': 4321, 'vibe': 4714, 'boi': 516, 'impromptu': 2245, 'kentucky': 2434, 'lazy': 2534, 'neworleans': 3089, 'orleans': 3243, 'literally': 2617, 'cant': 722, 'laughing': 2521, 'third': 4471, 'gulf': 1978, 'alabama': 80, 'wedding': 4812, 'chihuahua': 857, 'rey': 3737, 'leah': 2542, 'become': 387, 'gamma': 1818, 'took': 4536, 'seminole': 3939, 'living': 2624, 'alice': 93, 'wonderland': 4910, 'wifi': 4864, 'mommy': 2950, 'westchester': 4829, 'dreamy': 1349, 'bridesmaid': 593, 'bouquet': 550, 'athens': 232, 'happynewyear': 2024, 'caramel': 736, 'mocha': 2936, 'fantastic': 1580, 'workshop': 4926, 'grandma': 1933, 'liberty': 2579, 'tag': 4376, 'share': 3972, 'sub': 4299, 'hubby': 2188, 'hayes': 2055, 'va': 4682, 'lions': 2608, 'ford': 1726, 'after': 63, 'gentleman': 1837, 'wife': 4862, 'cop': 1042, 'joint': 2381, 'prayer': 3508, 'mexico': 2871, 'dear': 1192, 'puerto': 3576, 'giving': 1865, 'purchase': 3590, 'will': 4870, 'law': 2528, 'mma': 2931, 'history': 2116, 'lesson': 2570, 'words': 4919, 'italy': 2322, 'gas': 1824, 'wish': 4892, 'band': 325, 'dysfunctional': 1390, 'surround': 4347, 'myrtle': 3026, 'round': 3813, 'met': 2864, 'delicious': 1221, 'shenanigans': 3988, 'booth': 532, 'minnie': 2910, 'piedmont': 3408, 'junior': 2404, 'chattanooga': 828, 'food': 1717, 'sick': 4031, 'kings': 2458, 've': 4693, 'explore': 1534, 'designer': 1239, 'yummy': 4989, 'short': 4014, 'flip': 1697, 'chop': 878, 'relax': 3690, 'classic': 915, 'spy': 4214, 'photography': 3393, 'sanfrancisco': 3868, 'inn': 2271, 'praise': 3506, 'lord': 2659, 'over': 3264, 'does': 1306, 'mean': 2827, 'jack': 2331, 'mad': 2719, 'elf': 1437, 'lots': 2666, 'warehouse': 4778, 'turn': 4614, 'sand': 3863, 'puremichigan': 3592, 'silver': 4040, 'dunes': 1378, 'missed': 2919, 'hype': 2212, 'flashbackfriday': 1685, 'nervous': 3076, 'having': 2053, 'whip': 4849, 'foundation': 1741, 'darling': 1171, 'haha': 1988, 'yep': 4969, 'extremely': 1542, 'strong': 4282, 'nightclub': 3109, 'maverick': 2810, 'eats': 1410, 'butter': 675, 'acres': 22, 'beat': 379, 'david': 1178, 'looking': 2654, 'forward': 1738, 'ear': 1394, 'case': 760, 'culver': 1125, 'send': 3940, 'cha': 796, 'sell': 3936, 'cash': 761, 'jacksonville': 2335, 'swan': 4351, 'fit': 1673, 'japanese': 2346, 'steak': 4245, 'sushi': 4349, 'papa': 3299, 'feast': 1605, 'swipe': 4362, 'cheat': 830, 'stand': 4227, 'scene': 3891, 'charleston': 818, 'antonio': 158, 'half': 1995, 'travel': 4571, 'yosemite': 4978, 'neighbor': 3071, 'sparkle': 4177, 'menu': 2852, 'balloon': 320, 'westwood': 4836, 'spending': 4188, 'cocktail': 962, 'workflow': 4921, 'nephew': 3074, 'bedford': 389, 'rachel': 3617, 'ballroom': 321, 'sending': 3941, 'vintage': 4728, 'nebraska': 3064, 'grace': 1918, 'average': 266, 'gear': 1831, 'upcoming': 4663, 'documentary': 1302, 'juice': 2397, 'yum': 4988, 'wan': 4771, 'exclusive': 1525, 'hoe': 2123, 'lifeisgood': 2584, 'edge': 1417, 'incredibly': 2253, 'spring': 4209, 'break': 576, 'bunny': 657, 'suny': 4329, 'relaxing': 3692, 'uptown': 4671, 'pa': 3272, 'xx': 4952, 'pose': 3487, 'via': 4713, 'bliss': 483, 'hogwarts': 2124, 'foodie': 1718, 'james': 2340, 'speak': 4179, 'wow': 4933, 'somewhere': 4141, 'rainbow': 3625, 'ole': 3209, 'concerts': 1007, 'wood': 4912, 'kim': 2450, 'slowly': 4087, 'rise': 3761, 'convention': 1030, 'donald': 1319, 'path': 3325, 'ah': 69, 'depot': 1233, 'lead': 2537, 'berry': 420, 'events': 1504, 'football': 1723, 'soo': 4148, 'glam': 1868, 'pensacola': 3354, 'vineyards': 4727, 'winery': 4883, 'wishing': 4893, 'positive': 3488, 'canon': 721, 'fashion': 1589, 'ask': 222, 'fill': 1643, 'situation': 4063, 'adore': 49, 'urban': 4673, 'agree': 68, 'men': 2849, 'trouble': 4592, 'getaway': 1843, 'iconic': 2216, 'duo': 1380, 'taco': 4373, 'rad': 3619, 'melt': 2840, 'momma': 2949, 'gold': 1890, 'request': 3711, 'tuesday': 4608, 'mermaid': 2857, 'glass': 1869, 'waterfront': 4795, 'loml': 2645, 'randomly': 3638, 'pick': 3399, 'item': 2323, 'choir': 876, 'tank': 4391, 'memories': 2846, 'japan': 2345, 'dc': 1187, 'district': 1286, 'saturdays': 3879, 'safe': 3840, 'theme': 4457, 'produce': 3546, 'fridays': 1771, 'secret': 3921, 'thankyou': 4447, 'outside': 3260, 'professor': 3553, 'door': 1326, 'fresno': 1768, 'cactus': 684, 'runner': 3825, 'definitely': 1215, 'spoil': 4198, 'feat': 1606, 'everywhere': 1512, 'vacay': 4684, 'her': 2084, 'rancho': 3636, 'del': 1218, 'apartment': 169, 'homes': 2139, 'freak': 1756, 'fourth': 1745, 'augustine': 250, 'finger': 1657, 'type': 4635, 'tradition': 4561, 'walnut': 4767, 'bling': 481, 'jewelry': 2369, 'earring': 1398, 'nation': 3046, 'iny': 2304, 'soldier': 4130, 'cotton': 1058, 'baseball': 344, 'miller': 2899, 'gratitude': 1940, 'test': 4434, 'result': 3727, 'event': 1503, 'crush': 1115, 'brass': 572, 'pacific': 3274, 'diego': 1255, 'pump': 3581, 'bentley': 418, 'edc': 1414, 'hug': 2190, 'murray': 3008, 'along': 102, 'spontaneous': 4200, 'mondays': 2955, 'parker': 3306, 'doubletree': 1333, 'resort': 3721, 'playoff': 3447, 'hockey': 2121, 'verizon': 4705, 'power': 3501, 'limited': 2600, 'edition': 1421, 'release': 3693, 'hop': 2160, 'usual': 4679, 'sedona': 3924, 'cheers': 836, 'napa': 3038, 'counting': 1063, 'eclipse': 1412, 'solareclipse': 4128, 'breezy': 584, 'fine': 1656, 'gorge': 1911, 'waterfall': 4794, 'dot': 1331, 'although': 107, 'society': 4121, 'stay': 4244, 'hippie': 2112, 'earn': 1397, 'bushwick': 669, 'camp': 703, 'company': 998, 'bos': 539, 'sample': 3859, 'pastry': 3322, 'army': 199, 'grey': 1954, 'simon': 4042, 'assembly': 226, 'midnight': 2886, 'force': 1725, 'true': 4595, 'weed': 4815, 'review': 3734, 'december': 1200, 'federal': 1611, 'medical': 2831, 'spooky': 4201, 'greenwood': 1952, 'frame': 1749, 'vsco': 4750, 'vscocam': 4751, 'mural': 3003, 'chase': 823, 'atx': 244, 'boutique': 553, 'fiesta': 1639, 'brighten': 597, 'loveofmylife': 2683, 'regram': 3682, 'eve': 1500, 'adam': 35, 'bound': 549, 'rough': 3812, 'painted': 3283, 'jason': 2348, 'mode': 2938, 'glorious': 1874, 'tasting': 4397, 'ventura': 4703, 'tho': 4474, 'henry': 2083, 'joseph': 2389, 'memory': 2847, 'dime': 1262, 'alexander': 90, 'training': 4567, 'killing': 2449, 'mall': 2745, 'lexington': 2577, 'ky': 2477, 'shut': 4028, 'grab': 1917, 'arm': 198, 'marvel': 2790, 'residences': 3717, 'bishop': 461, 'photooftheday': 3394, 'nikon': 3114, 'catching': 770, 'grandparent': 1935, 'prom': 3559, 'cosplay': 1053, 'btw': 636, 'flyer': 1708, 'af': 58, 'idk': 2220, 'ok': 3202, 'dodger': 1304, 'atl': 236, 'plan': 3431, 'brand': 570, 'musician': 3014, 'pussy': 3598, 'babyboy': 290, 'us': 4674, 'fireplace': 1665, 'regency': 3680, 'plant': 3436, 'success': 4302, 'adopt': 46, 'ga': 1807, 'sum': 4310, 'seat': 3917, 'card': 737, 'tahoe': 4377, 'annual': 153, 'reunion': 3731, 'yo': 4974, 'dust': 1383, 'magickingdom': 2728, 'en': 1454, 'brookfield': 613, 'risk': 3762, 'chip': 870, 'base': 343, 'carmel': 748, 'proper': 3564, 'caption': 732, 'gun': 1979, 'adorable': 48, 'invest': 2301, 'floral': 1700, 'masterpiece': 2799, 'tickets': 4495, 'medium': 2834, 'close': 937, 'icecream': 2214, 'fitness': 1675, 'fb': 1600, 'bye': 681, 'fame': 1570, 'sooo': 4150, 'pb': 3337, 'profile': 3554, 'honda': 2146, 'wings': 4885, 'goodness': 1900, 'harrison': 2036, 'recording': 3670, 'legend': 2556, 'hbd': 2056, 'imperial': 2241, 'dynamic': 1389, 'reunite': 3732, 'wa': 4752, 'newark': 3084, 'leg': 2554, 'salty': 3854, 'duck': 1370, 'ultimate': 4640, 'version': 4708, 'oakland': 3174, 'gods': 1887, 'bill': 449, 'graham': 1926, 'civic': 908, 'wyoming': 4947, 'pass': 3317, 'occasion': 3186, 'speed': 4184, 'speaker': 4180, 'him': 2108, 'myboy': 3020, 'character': 815, 'common': 996, 'bodybuilding': 515, 'under': 4645, 'wilmington': 4875, 'sneak': 4107, 'peek': 3348, 'blogger': 487, 'melanin': 2838, 'bell': 405, 'tailgate': 4379, 'bonfire': 522, 'nana': 3035, 'excite': 1521, 'waffle': 4754, 'lovethem': 2687, 'retreat': 3728, 'al': 79, 'madness': 2723, 'harlem': 2030, 'fake': 1565, 'blues': 498, 'dab': 1147, 'reservoir': 3715, 'featured': 1608, 'familia': 1571, 'destin': 1242, 'burn': 662, 'schedule': 3895, 'barre': 340, 'wing': 4884, 'floyd': 1706, 'amanda': 111, 'mushroom': 3011, 'tempe': 4425, 'canal': 712, 'venice': 4701, 'where': 4844, 'lion': 2607, 'allen': 96, 'equipment': 1483, 'wind': 4878, 'film': 1645, 'planet': 3433, 'salem': 3848, 'stuff': 4290, 'handmade': 2005, 'practice': 3505, 'hampshire': 2001, 'flame': 1681, 'answer': 155, 'hunter': 2200, 'vineyard': 4726, 'piss': 3423, 'davis': 1179, 'quit': 3612, 'edison': 1419, 'bailey': 306, 'afternoon': 64, 'italian': 2321, 'sport': 4202, 'ended': 1458, 'guest': 1975, 'beast': 378, 'match': 2801, 'hilton': 2107, 'am': 110, 'sanford': 3867, 'premier': 3514, 'bros': 616, 'panther': 3297, 'longer': 2649, 'aug': 248, 'lunch': 2705, 'folly': 1716, 'anymore': 161, 'livin': 2623, 'dat': 1172, 'rather': 3644, 'palm': 3289, 'ferris': 1627, 'wheel': 4841, 'coal': 956, 'lowell': 2692, 'boys': 561, 'are': 191, 'dang': 1165, 'besties': 426, 'massachusetts': 2795, 'albuquerque': 86, 'poster': 3493, 'connect': 1018, 'walking': 4763, 'heel': 2075, 'eaton': 1409, 'able': 4, 'very': 4709, 'plano': 3435, 'radford': 3620, 'abby': 2, 'woods': 4916, 'mce': 2819, 'chance': 806, 'sxsw': 4365, 'balcony': 316, 'mic': 2878, 'canvas': 725, 'sophia': 4154, 'nofilterneeded': 3124, 'authentic': 256, 'bro': 607, 'birmingham': 456, 'somebody': 4135, 'heading': 2060, 'competition': 1000, 'pilates': 3413, 'okc': 3204, 'wellness': 4825, 'motivation': 2978, 'accept': 12, 'nassau': 3043, 'tear': 4415, 'ritz': 3764, 'omaha': 3212, 'float': 1698, 'denim': 1228, 'teacher': 4412, 'wright': 4936, 'ex': 1514, 'irish': 2308, 'tacos': 4375, 'hooters': 2158, 'marquis': 2779, 'de': 1188, 'sleeve': 4080, 'entire': 1473, 'margarita': 2767, 'lunchtime': 2707, 'balance': 313, 'babe': 286, 'southern': 4170, 'certainly': 795, 'cc': 779, 'bmx': 505, 'tall': 4388, 'blonde': 488, 'did': 1252, 'woke': 4903, 'girlfriend': 1860, 'indianapolis': 2259, 'hi': 2090, 'beachin': 370, 'lasvegas': 2512, 'vip': 4730, 'veteransday': 4712, 'dude': 1371, 'anyway': 165, 'prize': 3540, 'backstage': 294, 'ultra': 4641, 'tequila': 4431, 'con': 1005, 'sleep': 4078, 'sitting': 4062, 'worth': 4930, 'inspiration': 2276, 'phoenix': 3385, 'catalina': 768, 'each': 1391, 'several': 3959, 'belt': 413, 'llc': 2625, 'adventures': 54, 'dumb': 1376, 'honey': 2149, 'tune': 4611, 'married': 2781, 'don': 1318, 'mac': 2716, 'winthrop': 4888, 'pre': 3510, 'race': 3616, 'bacon': 297, 'idea': 2219, 'tampa': 4389, 'attend': 241, 'charles': 817, 'fuel': 1791, 'furry': 1803, 'interested': 2290, 'luck': 2700, 'senior': 3942, 'lo': 2628, 'ma': 2715, 'flint': 1696, 'bryan': 632, 'step': 4250, 'energy': 1461, 'sauce': 3880, 'cheesin': 839, 'tide': 4496, 'reunited': 3733, 'rhode': 3738, 'expo': 1536, 'pulled': 3580, 'tan': 4390, 'march': 2763, 'ct': 1120, 'sugar': 4306, 'ha': 1984, 'wise': 4891, 'ri': 3740, 'dutch': 1384, 'fred': 1757, 'grande': 1931, 'manor': 2757, 'create': 1094, 'baker': 310, 'prince': 3536, 'edward': 1424, 'headquarters': 2061, 'ap': 167, 'choreography': 880, 'olive': 3210, 'from': 1781, 'bethlehem': 430, 'blizzard': 484, 'highlight': 2097, 'lou': 2667, 'quad': 3601, 'malibu': 2744, 'app': 171, 'shoplocal': 4008, 'obama': 3177, 'astoria': 228, 'blvd': 503, 'subway': 4301, 'marcus': 2766, 'slide': 4082, 'brought': 620, 'charm': 822, 'giants': 1849, 'molly': 2944, 'ava': 260, 'linda': 2602, 'nurse': 3163, 'blush': 502, 'cure': 1130, 'course': 1067, 'feliz': 1619, 'union': 4650, 'quite': 3613, 'fillmore': 1644, 'adoption': 47, 'root': 3807, 'nut': 3164, 'either': 1430, 'staff': 4223, 'palace': 3287, 'hookah': 2156, 'before': 397, 'happythanksgiving': 2026, 'oxford': 3269, 'baptist': 331, 'observatory': 3179, 'greater': 1943, 'noodles': 3130, 'chill': 862, 'tuscaloosa': 4617, 'stroll': 4281, 'rule': 3822, 'theweeknd': 4463, 'former': 1734, 'shooting': 4006, 'sam': 3856, 'lmao': 2626, 'ppl': 3503, 'circa': 901, 'teach': 4411, 'down': 1336, 'catering': 771, 'laughter': 2522, 'rouge': 3811, 'springbreak': 4210, 'inspired': 2278, 'horizon': 2164, 'cliff': 930, 'again': 65, 'southwest': 4172, 'landmark': 2500, 'americana': 122, 'barn': 338, 'homestead': 2140, 'rogers': 3790, 'twitter': 4630, 'curry': 1134, 'chilling': 864, 'chilly': 865, 'scarf': 3889, 'cozy': 1083, 'donate': 1320, 'hurricane': 2203, 'outta': 3262, 'carol': 750, 'maddie': 2720, 'self': 3931, 'pep': 3357, 'tweet': 4619, 'eyebrow': 1544, 'alone': 101, 'laurel': 2525, 'land': 2498, 'unique': 4651, 'random': 3637, 'snow': 4111, 'brunette': 628, 'gal': 1810, 'alpha': 103, 'empirestatebuilding': 1453, 'building': 649, 'message': 2862, 'np': 3157, 'paso': 3316, 'toledo': 4523, 'milwaukee': 2902, 'delaware': 1219, 'decorate': 1207, 'loveit': 2679, 'accent': 11, 'marry': 2783, 'china': 867, 'victoria': 4716, 'british': 605, 'trees': 4580, 'smiling': 4096, 'pike': 3412, 'outstanding': 3261, 'kent': 2433, 'discovery': 1278, 'scream': 3903, 'coaster': 959, 'jean': 2355, 'exciting': 1524, 'bf': 437, 'material': 2804, 'brow': 621, 'chinatown': 868, 'taken': 4382, 'freeway': 1762, 'highway': 2099, 'tight': 4501, 'inner': 2272, 'monroe': 2959, 'alert': 88, 'debut': 1196, 'chang': 809, 'humor': 2195, 'buffet': 646, 'lubbock': 2698, 'habitat': 1985, 'zen': 4992, 'meadow': 2824, 'frisco': 1778, 'pete': 3374, 'read': 3652, 'southside': 4171, 'statue': 4242, 'playa': 3441, 'boots': 533, 'glory': 1875, 'magnolia': 2730, 'initiate': 2267, 'xi': 4948, 'excuse': 1526, 'softball': 4125, 'playground': 3443, 'represent': 3709, 'philly': 3383, 'appearance': 175, 'grind': 1959, 'direction': 1270, 'picnic': 3402, 'branch': 569, 'parks': 3308, 'recreation': 3672, 'cali': 691, 'ace': 18, 'regular': 3686, 'loveyou': 2688, 'shore': 4011, 'biggest': 445, 'witness': 4898, 'ignore': 2223, 'six': 4064, 'flag': 1679, 'flags': 1680, 'clothing': 942, 'vega': 4694, 'sunglass': 4322, 'tasty': 4398, 'sour': 4166, 'ale': 87, 'lauderdale': 2519, 'movies': 2989, 'messy': 2863, 'bob': 510, 'mention': 2850, 'luxury': 2711, 'aquarium': 184, 'plate': 3438, 'purple': 3593, 'gym': 1982, 'burbank': 658, 'centralpark': 789, 'newyorkcity': 3096, 'douglas': 1335, 'snag': 4104, 'hole': 2126, 'glen': 1870, 'longwood': 2651, 'sandy': 3866, 'charlie': 819, 'farms': 1588, 'anthony': 156, 'wrigley': 4937, 'mug': 2999, 'lost': 2664, 'unc': 4643, 'charlotte': 820, 'botanical': 542, 'gang': 1819, 'mar': 2761, 'england': 1464, 'inlove': 2270, 'pt': 3573, 'hilarious': 2102, 'itunes': 2327, 'pour': 3499, 'liquid': 2611, 'northern': 3141, 'women': 4906, 'cheer': 834, 'copy': 1044, 'sioux': 4051, 'hottie': 2174, 'rockin': 3785, 'pirate': 3422, 'veggie': 4698, 'barbershop': 335, 'happyhalloween': 2020, 'makeup': 2741, 'due': 1372, 'basketball': 351, 'simply': 4044, 'bestfriends': 424, 'approach': 182, 'dayton': 1184, 'sold': 4129, 'perspective': 3372, 'tribeca': 4584, 'lane': 2502, 'years': 4963, 'cave': 778, 'pun': 3584, 'rainyday': 3627, 'pier': 3409, 'doubt': 1334, 'cred': 1097, 'control': 1029, 'understand': 4646, 'lobster': 2632, 'legs': 2562, 'erie': 1486, 'wat': 4790, 'online': 3220, 'happybirthday': 2018, 'spin': 4193, 'mix': 2928, 'evans': 1499, 'towne': 4553, 'belated': 403, 'mcdonald': 2818, 'stupid': 4294, 'montana': 2961, 'jan': 2342, 'fight': 1641, 'pc': 3338, 'crave': 1091, 'backyard': 296, 'ending': 1459, 'technology': 4418, 'access': 13, 'um': 4642, 'gymnastics': 1983, 'peep': 3349, 'snap': 4105, 'norris': 3137, 'gracias': 1919, 'institute': 2286, 'contemporary': 1025, 'painting': 3284, 'bainbridge': 307, 'renaissance': 3698, 'keystone': 2437, 'express': 1537, 'effect': 1426, 'munchkin': 3001, 'fever': 1633, 'peter': 3375, 'pan': 3291, 'buena': 644, 'vista': 4736, 'era': 1484, 'route': 3814, 'discover': 1277, 'trio': 4588, 'amusement': 131, 'done': 1322, 'tuna': 4610, 'lve': 2712, 'soooo': 4151, 'barber': 334, 'cove': 1075, 'penn': 3351, 'por': 3480, 'boardwalk': 508, 'id': 2217, 'ipa': 2306, 'chest': 847, 'through': 4484, 'digital': 1260, 'belmont': 410, 'hack': 1986, 'bride': 592, 'groom': 1961, 'le': 2536, 'bodega': 513, 'ellis': 1442, 'jealous': 2354, 'ferry': 1628, 'conference': 1012, 'possible': 3490, 'whiskey': 4850, 'barrel': 341, 'horror': 2165, 'decatur': 1199, 'boom': 527, 'throw': 4485, 'yr': 4987, 'pr': 3504, 'orange': 3234, 'flea': 1692, 'cinnamon': 900, 'orchards': 3236, 'spirit': 4194, 'wyndham': 4944, 'pigeon': 3411, 'forge': 1729, 'lemon': 2564, 'pokemon': 3466, 'jacket': 2332, 'goodnight': 1901, 'funtimes': 1800, 'finna': 1661, 'blow': 495, 'hire': 2113, 'ambassador': 116, 'peanut': 3344, 'banana': 324, 'bread': 575, 'stuck': 4284, 'library': 2580, 'timessquare': 4508, 'perry': 3368, 'value': 4687, 'personal': 3370, 'mrs': 2991, 'grub': 1970, 'thirsty': 4472, 'yellowstone': 4967, 'camping': 707, 'thin': 4466, 'dangerous': 1166, 'clip': 935, 'scott': 3899, 'mckinney': 2820, 'madison': 2722, 'lollapalooza': 2644, 'lolla': 2643, 'suck': 4305, 'visiting': 4734, 'hub': 2187, 'showtime': 4025, 'hudson': 2189, 'theatres': 4453, 'monterey': 2964, 'shenanigan': 3987, 'ten': 4427, 'cedar': 780, 'their': 4455, 'ink': 2268, 'hurt': 2205, 'iron': 2309, 'tattoo': 4399, 'parlor': 3310, 'bud': 641, 'mixtape': 2930, 'finish': 1658, 'topgolf': 4538, 'gf': 1846, 'reflect': 3674, 'conway': 1033, 'arkansas': 196, 'cardio': 738, 'kitten': 2465, 'phi': 3379, 'mu': 2995, 'huge': 2191, 'splash': 4196, 'slice': 4081, 'logan': 2639, 'lily': 2597, 'onelove': 3218, 'touch': 4544, 'mouth': 2985, 'faves': 1595, 'bet': 427, 'president': 3525, 'merrychristmas': 2859, 'truth': 4601, 'woe': 4902, 'toe': 4520, 'atlantic': 238, 'dip': 1268, 'swim': 4360, 'blessings': 479, 'sorority': 4156, 'suit': 4307, 'dogsofinstagram': 1309, 'selfiesunday': 3934, 'table': 4372, 'boca': 512, 'challenge': 799, 'salon': 3850, 'knoxville': 2473, 'doe': 1305, 'london': 2646, 'faire': 1558, 'puff': 3577, 'natural': 3051, 'nah': 3031, 'rally': 3630, 'yellow': 4966, 'williamsburg': 4873, 'pray': 3507, 'weight': 4819, 'landing': 2499, 'noon': 3131, 'ate': 231, 'nantucket': 3036, 'activity': 28, 'cooky': 1038, 'different': 1258, 'clinic': 933, 'cheek': 833, 'miracle': 2914, 'bun': 654, 'bible': 441, 'lovin': 2689, 'florence': 1701, 'pet': 3373, 'freshman': 1767, 'brewery': 586, 'simple': 4043, 'decoration': 1208, 'war': 4776, 'bikini': 448, 'general': 1835, 'mitchell': 2927, 'wi': 4858, 'range': 3639, 'cherry': 845, 'naughty': 3054, 'green': 1946, 'creation': 1095, 'wondering': 4909, 'dem': 1225, 'talking': 4387, 'stick': 4254, 'yours': 4983, 'others': 3247, 'myself': 3027, 'ballet': 319, 'bus': 666, 'wtf': 4941, 'reaction': 3651, 'brace': 564, 'change': 810, 'pit': 3424, 'mc': 2815, 'smith': 4097, 'feels': 1617, 'lt': 2697, 'highlands': 2096, 'aerial': 57, 'stretch': 4277, 'foster': 1739, 'melrose': 2839, 'quickly': 3610, 'easy': 1405, 'pretend': 3528, 'pea': 3339, 'scratch': 3902, 'dirty': 1272, 'recap': 3663, 'especially': 1488, 'relationship': 3689, 'sisterhood': 4058, 'pine': 3416, 'coronado': 1050, 'genuine': 1838, 'mason': 2793, 'wolf': 4904, 'group': 1965, 'nfl': 3098, 'metlife': 2867, 'form': 1732, 'lyric': 2714, 'trash': 4570, 'january': 2344, 'roomie': 3803, 'bump': 653, 'rocking': 3786, 'chair': 798, 'paint': 3282, 'ithaca': 2324, 'boot': 531, 'sibling': 4030, 'bonus': 523, 'clinton': 934, 'woodlands': 4915, 'myers': 3022, 'indy': 2263, 'hanging': 2010, 'chef': 841, 'legoland': 2561, 'liv': 2620, 'bestfriend': 423, 'truelove': 4596, 'griffith': 1955, 'trails': 4565, 'christ': 882, 'jingle': 2373, 'troy': 4593, 'du': 1368, 'breath': 580, 'cn': 952, 'casa': 759, 'wilson': 4876, 'columbus': 983, 'daddysgirl': 1150, 'pro': 3541, 'shops': 4010, 'goodmorning': 1899, 'realestate': 3656, 'teaching': 4413, 'kay': 2421, 'found': 1740, 'scary': 3890, 'cleveland': 927, 'tistheseason': 4515, 'windsor': 4880, 'lens': 2566, 'completely': 1003, 'sharing': 3973, 'restaurants': 3726, 'kitty': 2466, 'catsofinstagram': 775, 'rip': 3760, 'wanted': 4775, 'lakeview': 2495, 'amphitheater': 129, 'tis': 4514, 'toy': 4555, 'quicken': 3609, 'loans': 2630, 'pm': 3458, 'rail': 3623, 'colorful': 980, 'tip': 4511, 'maple': 2760, 'leaf': 2540, 'extra': 1540, 'epsilon': 1481, 'pi': 3397, 'floor': 1699, 'mat': 2800, 'steel': 4248, 'pops': 3478, 'plymouth': 3457, 'springfield': 4211, 'estates': 1494, 'poor': 3474, 'punk': 3586, 'kiss': 2460, 'theater': 4451, 'tucker': 4606, 'news': 3091, 'announce': 150, 'reading': 3653, 'option': 3232, 'channel': 811, 'shadow': 3968, 'sleepy': 4079, 'plantation': 3437, 'amarillo': 112, 'waited': 4756, 'bow': 554, 'matter': 2807, 'canoe': 720, 'rental': 3700, 'waiting': 4757, 'holidayparty': 2128, 'mini': 2906, 'or': 3233, 'logo': 2640, 'aurora': 253, 'stranger': 4269, 'kenny': 2432, 'ceremony': 793, 'township': 4554, 'return': 3730, 'local': 2633, 'shoreline': 4012, 'shipment': 3997, 'chapel': 813, 'pasadena': 3315, 'court': 1068, 'panama': 3292, 'se': 3908, 'jordan': 2387, 'gown': 1916, 'nutella': 3166, 'kisses': 2461, 'action': 27, 'drum': 1363, 'claim': 909, 'upgrade': 4665, 'boulder': 546, 'valentine': 4685, 'leather': 2547, 'soho': 4126, 'joke': 2382, 'jackie': 2333, 'solo': 4133, 'department': 1232, 'avenue': 265, 'peaceful': 3341, 'jolla': 2383, 'spam': 4176, 'continue': 1028, 'youngstown': 4981, 'gross': 1962, 'fuzzy': 1806, 'bon': 519, 'five': 1676, 'candid': 714, 'flawless': 1691, 'skin': 4072, 'brotha': 617, 'owner': 3268, 'orchard': 3235, 'successful': 4303, 'matching': 2802, 'pug': 3578, 'historic': 2115, 'wax': 4797, 'female': 1625, 'flats': 1689, 'goals': 1882, 'large': 2506, 'main': 2733, 'wichita': 4859, 'dominion': 1317, 'rva': 3834, 'burrito': 665, 'salsa': 3852, 'brave': 573, 'less': 2569, 'salt': 3853, 'wildlife': 4868, 'refuge': 3677, 'oscar': 3245, 'shower': 4023, 'campground': 706, 'pace': 3273, 'richmond': 3746, 'introduce': 2299, 'clifton': 931, 'celebrity': 784, 'absolute': 8, 'coral': 1045, 'apart': 168, 'tunnel': 4612, 'nasty': 3044, 'diva': 1288, 'weave': 4808, 'drake': 1343, 'regional': 3681, 'lauren': 2526, 'andy': 140, 'holy': 2135, 'sisters': 4059, 'paradise': 3302, 'brush': 631, 'teeth': 4421, 'wig': 4865, 'intimate': 2297, 'jungle': 2403, 'dentist': 1230, 'residence': 3716, 'circle': 902, 'lately': 2514, 'feelin': 1615, 'raleigh': 3629, 'brothers': 619, 'portrait': 3486, 'nights': 3111, 'lovehim': 2678, 'lodge': 2636, 'des': 1234, 'moines': 2943, 'swear': 4352, 'stress': 4276, 'wisdom': 4890, 'republic': 3710, 'solar': 4127, 'prod': 3545, 'burlington': 661, 'drone': 1358, 'gopro': 1910, 'karma': 2417, 'shitty': 4001, 'moore': 2971, 'pup': 3587, 'grounds': 1964, 'lie': 2582, 'hannah': 2012, 'clair': 910, 'albany': 84, 'celebration': 783, 'cloudy': 945, 'lancaster': 2497, 'issa': 2318, 'farmers': 1587, 'julia': 2399, 'meditation': 2833, 'tops': 4539, 'western': 4831, 'haircolor': 1992, 'decide': 1202, 'performing': 3365, 'inc': 2249, 'romper': 3797, 'holidayseason': 2130, 'basket': 350, 'il': 2228, 'hidden': 2092, 'mylove': 3025, 'shark': 3974, 'producer': 3548, 'showcase': 4022, 'twinning': 4625, 'magnificent': 2729, 'amount': 127, 'baked': 309, 'pumpkin': 3583, 'looks': 2656, 'bike': 447, 'dtla': 1367, 'level': 2574, 'boxing': 558, 'pole': 3468, 'min': 2903, 'chuck': 891, 'ruby': 3820, 'traveler': 4572, 'wanderlust': 4773, 'age': 66, 'most': 2975, 'tulsa': 4609, 'shape': 3971, 'biltmore': 452, 'once': 3216, 'brilliant': 599, 'stl': 4257, 'seen': 3929, 'rae': 3622, 'ann': 146, 'nope': 3132, 'exploring': 1535, 'wce': 4800, 'chrysler': 890, 'supply': 4334, 'riverwalk': 3770, 'stamford': 4225, 'fireball': 1663, 'coliseum': 973, 'fe': 1602, 'featuring': 1609, 'nap': 3037, 'print': 3538, 'buzz': 679, 'respect': 3722, 'cemetery': 785, 'future': 1805, 'sweetheart': 4357, 'ig': 2222, 'sweetness': 4359, 'swoon': 4364, 'newlywed': 3087, 'citywalk': 907, 'rush': 3829, 'bash': 346, 'rare': 3643, 'dead': 1189, 'works': 4925, 'doll': 1312, 'burning': 663, 'corona': 1049, 'keepin': 2426, 'autumn': 259, 'msg': 2992, 'joshua': 2391, 'twilight': 4622, 'huntington': 2201, 'memorable': 2844, 'happyholidays': 2021, 'covington': 1077, 'captain': 731, 'presents': 3523, 'newyear': 3093, 'famous': 1576, 'protein': 3567, 'betty': 432, 'patch': 3324, 'bush': 668, 'intercontinental': 2289, 'resist': 3719, 'grown': 1968, 'display': 1283, 'window': 4879, 'deck': 1205, 'technique': 4417, 'push': 3597, 'sigma': 4035, 'swag': 4350, 'congratulation': 1015, 'americanairlines': 123, 'karaoke': 2416, 'knight': 2469, 'trinity': 4587, 'lutheran': 2708, 'hustle': 2208, 'forum': 1737, 'busy': 672, 'wednesday': 4814, 'winter': 4887, 'guitar': 1977, 'design': 1238, 'td': 4408, 'beaver': 385, 'vegasstrong': 4697, 'lace': 2484, 'fix': 1677, 'hampton': 2002, 'cracker': 1086, 'trick': 4586, 'justin': 2409, 'bieber': 443, 'talent': 4384, 'awkward': 281, 'thick': 4465, 'lobby': 2631, 'gaylord': 1830, 'opryland': 3231, 'caught': 776, 'lighthouse': 2590, 'giant': 1848, 'socal': 4118, 'chateau': 826, 'montrose': 2967, 'tee': 4419, 'maria': 2768, 'size': 4065, 'nails': 3033, 'adams': 36, 'skate': 4066, 'tail': 4378, 'woo': 4911, 'kimpton': 2451, 'bloom': 491, 'dragon': 1342, 'disneyworld': 1282, 'accident': 15, 'balayage': 314, 'refresh': 3676, 'ilysm': 2233, 'cookie': 1035, 'ahhh': 71, 'pebble': 3346, 'whether': 4846, 'jar': 2347, 'serving': 3951, 'fruit': 1784, 'temple': 4426, 'humble': 2194, 'parking': 3307, 'dawg': 1180, 'involve': 2303, 'ray': 3648, 'clearly': 923, 'hoco': 2122, 'castle': 765, 'pearl': 3345, 'sista': 4056, 'wildwood': 4869, 'soak': 4116, 'turtle': 4616, 'casual': 766, 'congratulations': 1016, 'fireside': 1666, 'image': 2236, 'ne': 3061, 'entry': 1475, 'details': 1245, 'waltdisneyworld': 4769, 'grove': 1966, 'beverly': 433, 'ralph': 3631, 'elle': 1441, 'rid': 3748, 'insta': 2279, 'boba': 511, 'westfield': 4832, 'private': 3539, 'emerald': 1448, 'bbq': 363, 'reposting': 3705, 'wherever': 4845, 'whoever': 4854, 'tom': 4524, 'relate': 3688, 'morgan': 2973, 'millennium': 2898, 'unexpected': 4647, 'quarter': 3603, 'same': 3857, 'produced': 3547, 'otw': 3248, 'vs': 4749, 'elizabeth': 1439, 'fairfield': 1560, 'blueberry': 497, 'chelsea': 842, 'seafood': 3910, 'slay': 4077, 'mail': 2732, 'goody': 1904, 'familyfirst': 1574, 'cone': 1010, 'tropical': 4591, 'centre': 790, 'egg': 1428, 'les': 2568, 'yankee': 4956, 'lifestyle': 2585, 'grandson': 1936, 'cats': 774, 'michelle': 2880, 'fella': 1621, 'bloomfield': 492, 'moe': 2942, 'flatbush': 1687, 'coconut': 966, 'candle': 716, 'deerfield': 1212, 'elementary': 1435, 'focus': 1710, 'tgif': 4438, 'bronx': 611, 'wash': 4786, 'fucking': 1789, 'comin': 991, 'cathedral': 772, 'vida': 4719, 'sharon': 3975, 'nightlife': 3110, 'sex': 3961, 'rep': 3701, 'finishing': 1660, 'ship': 3996, 'adult': 50, 'ground': 1963, 'zero': 4993, 'carter': 757, 'nutcracker': 3165, 'rp': 3818, 'angels': 143, 'envy': 1476, 'formal': 1733, 'launch': 2523, 'pho': 3384, 'contest': 1027, 'upon': 4667, 'bartender': 342, 'lap': 2505, 'stun': 4291, 'introducing': 2300, 'baton': 357, 'executive': 1527, 'nola': 3125, 'varsity': 4692, 'victory': 4717, 'philips': 3381, 'taste': 4396, 'crap': 1090, 'regal': 3679, 'dork': 1330, 'february': 1610, 'comfort': 987, 'zone': 4997, 'why': 4857, 'compassion': 999, 'dreams': 1348, 'crystal': 1119, 'legacy': 2555, 'honeymoon': 2150, 'listening': 2615, 'jus': 2406, 'yall': 4955, 'switch': 4363, 'durham': 1381, 'cooper': 1041, 'johnson': 2379, 'bella': 406, 'obsession': 3182, 'smoothie': 4102, 'drinks': 1354, 'milkshake': 2896, 'founder': 1742, 'aboutlastnight': 6, 'pound': 3498, 'snack': 4103, 'diet': 1256, 'applebee': 177, 'greetings': 1953, 'beaut': 381, 'fusion': 1804, 'cheesecake': 838, 'factory': 1553, 'midwest': 2889, 'toast': 4518, 'children': 860, 'bounce': 548, 'knife': 2468, 'busch': 667, 'costco': 1055, 'fox': 1747, 'banquet': 330, 'clarksville': 913, 'hero': 2088, 'knee': 2467, 'bluff': 499, 'makin': 2742, 'ihop': 2224, 'delivery': 1223, 'walker': 4762, 'solid': 4132, 'ramen': 3633, 'dessert': 1241, 'eatery': 1407, 'marathon': 2762, 'musical': 3013, 'google': 1907, 'attitude': 243, 'donation': 1321, 'northeast': 3140, 'safari': 3839, 'reflection': 3675, 'ceramic': 792, 'doral': 1329, 'lisa': 2612, 'package': 3276, 'roosevelt': 3806, 'desk': 1240, 'perfectly': 3362, 'pas': 3314, 'chic': 852, 'soup': 4165, 'isles': 2317, 'lowkey': 2694, 'has': 2043, 'singing': 4049, 'indoor': 2261, 'lash': 2509, 'outdoor': 3253, 'galaxy': 1811, 'haute': 2049, 'moma': 2946, 'saturdaynight': 3878, 'cloud': 943, 'nugget': 3161, 'norfolk': 3134, 'youtube': 4986, 'harvey': 2042, 'chesapeake': 846, 'greene': 1947, 'dolphin': 1315, 'mirage': 2915, 'blink': 482, 'snuggle': 4114, 'eva': 1498, 'statement': 4238, 'ghost': 1847, 'strike': 4278, 'jose': 2388, 'nom': 3126, 'nomnom': 3127, 'shelter': 3985, 'rim': 3755, 'fulton': 1794, 'insurance': 2288, 'stud': 4285, 'slow': 4086, 'mighty': 2891, 'math': 2805, 'athlete': 233, 'closet': 939, 'mccarran': 2817, 'banger': 327, 'website': 4809, 'mcallen': 2816, 'stopped': 4263, 'harrisburg': 2035, 'essential': 1492, 'lego': 2560, 'clubhouse': 948, 'shawnee': 3979, 'corn': 1047, 'photos': 3395, 'carrot': 754, 'murfreesboro': 3005, 'legends': 2558, 'issue': 2319, 'addition': 41, 'ily': 2232, 'dropping': 1361, 'ft': 1786, 'fuego': 1790, 'driving': 1357, 'rollin': 3793, 'ginger': 1856, 'routine': 3815, 'sup': 4330, 'flashback': 1684, 'nikki': 3113, 'broken': 610, 'cuisine': 1123, 'calif': 692, 'seven': 3958, 'evil': 1513, 'champ': 800, 'sammy': 3858, 'catholic': 773, 'sunnyday': 4324, 'partner': 3312, 'instagood': 2281, 'mint': 2911, 'oasis': 3176, 'grader': 1922, 'heritage': 2086, 'ty': 4633, 'disappoint': 1274, 'gatlinburg': 1827, 'idaho': 2218, 'estate': 1493, 'indeed': 2254, 'venetian': 4700, 'tao': 4392, 'september': 3944, 'birthdaygirl': 459, 'jackson': 2334, 'hamilton': 2000, 'shoes': 4003, 'antique': 157, 'garage': 1821, 'yea': 4960, 'basically': 348, 'own': 3267, 'gay': 1828, 'colour': 981, 'coastal': 958, 'guard': 1972, 'mua': 2996, 'hermosa': 2087, 'walmart': 4766, 'dis': 1273, 'mess': 2861, 'fest': 1629, 'bingo': 453, 'silverlake': 4041, 'linkinbio': 2606, 'while': 4848, 'skirt': 4074, 'babies': 288, 'swing': 4361, 'blood': 490, 'petersburg': 3376, 'kids': 2444, 'candids': 715, 'asbury': 215, 'northcarolina': 3139, 'greensboro': 1949, 'rehearsal': 3687, 'lynn': 2713, 'raton': 3645, 'majestic': 2735, 'upload': 4666, 'backwards': 295, 'pancake': 3293, 'currently': 1133, 'offer': 3193, 'unforgettable': 4648, 'crib': 1103, 'actor': 29, 'tyler': 4634, 'bringing': 601, 'hq': 2182, 'approve': 183, 'someday': 4136, 'lay': 2532, 'things': 4468, 'peach': 3342, 'million': 2900, 'dollar': 1313, 'hide': 2093, 'brunswick': 630, 'tough': 4545, 'flavor': 1690, 'twisted': 4629, 'his': 2114, 'nathan': 3045, 'uber': 4637, 'driver': 1356, 'loose': 2658, 'poppin': 3477, 'sock': 4122, 'carnival': 749, 'porter': 3484, 'eugene': 1496, 'naval': 3055, 'beet': 396, 'discount': 1276, 'kc': 2423, 'sip': 4052, 'independence': 2255, 'travis': 4574, 'subscribe': 4300, 'kicking': 2440, 'mentor': 2851, 'luncheon': 2706, 'lmfao': 2627, 'neverforget': 3081, 'note': 3147, 'babes': 287, 'hip': 2110, 'skill': 4071, 'etsy': 1495, 'easter': 1402, 'finale': 1651, 'financial': 1653, 'havana': 2050, 'fountain': 1743, 'meatball': 2829, 'hyde': 2211, 'prime': 3535, 'humpday': 2197, 'eden': 1416, 'site': 4061, 'cypress': 1145, 'flat': 1686, 'auto': 258, 'brickell': 590, 'warrior': 4783, 'core': 1046, 'roadhouse': 3774, 'background': 293, 'providence': 3569, 'slope': 4085, 'louisville': 2673, 'elevation': 1436, 'clayton': 918, 'magazine': 2724, 'fairfax': 1559, 'left': 2552, 'yup': 4990, 'calling': 695, 'harrah': 2033, 'hickory': 2091, 'praying': 3509, 'focused': 1711, 'smokey': 4099, 'md': 2822, 'bull': 650, 'classy': 916, 'fundraiser': 1797, 'necklace': 3067, 'stout': 4267, 'mango': 2754, 'obviously': 3183, 'diamond': 1250, 'jc': 2353, 'coldplay': 971, 'onto': 3223, 'seasons': 3916, 'gameday': 1816, 'wifey': 4863, 'fleek': 1693, 'chaos': 812, 'shift': 3992, 'veteran': 4710, 'clock': 936, 'upside': 4670, 'started': 4234, 'sketch': 4069, 'auburn': 245, 'doors': 1327, 'cal': 689, 'thats': 4449, 'besides': 421, 'ivy': 2330, 'sandwich': 3865, 'chester': 848, 'tech': 4416, 'dexter': 1248, 'polaroid': 3467, 'used': 4677, 'broward': 622, 'notre': 3151, 'dame': 1158, 'crime': 1104, 'mark': 2775, 'sooooo': 4152, 'triple': 4590, 'traffic': 4563, 'screen': 3904, 'boomerang': 528, 'adele': 42, 'twinkle': 4624, 'soft': 4124, 'butt': 674, 'sweat': 4353, 'lovemyfamily': 2682, 'shave': 3977, 'gibson': 1850, 'blanket': 473, 'husky': 2207, 'bomb': 518, 'towards': 4549, 'difference': 1257, 'ram': 3632, 'aye': 284, 'landscape': 2501, 'thrilled': 4483, 'marketing': 2777, 'seem': 3928, 'oldie': 3208, 'wars': 4784, 'bee': 392, 'finding': 1655, 'element': 1434, 'thomas': 4475, 'hella': 2079, 'impress': 2244, 'doc': 1298, 'await': 271, 'embrace': 1447, 'wells': 4826, 'fargo': 1584, 'chasing': 824, 'heather': 2070, 'imma': 2240, 'purse': 3595, 'mountains': 2983, 'sonic': 4145, 'facial': 1551, 'riverside': 3769, 'belle': 408, 'wynn': 4945, 'pelican': 3350, 'generation': 1836, 'cary': 758, 'sanantonio': 3861, 'homesweethome': 2141, 'navidad': 3056, 'giveaway': 1864, 'flamingo': 1682, 'editorial': 1422, 'mirror': 2917, 'macy': 2718, 'wicked': 4860, 'facetime': 1550, 'happier': 2014, 'insert': 2274, 'champagne': 801, 'ditch': 1287, 'sacred': 3837, 'enter': 1471, 'jim': 2371, 'anderson': 137, 'legit': 2559, 'southbeach': 4168, 'maggiano': 2725, 'tigers': 4500, 'excellent': 1518, 'progress': 3556, 'cowboys': 1080, 'niggas': 3107, 'effort': 1427, 'location': 2634, 'pat': 3323, 'nationals': 3049, 'buckhead': 640, 'artwork': 212, 'coworkers': 1082, 'engagement': 1463, 'eric': 1485, 'remind': 3695, 'brain': 568, 'acting': 26, 'entertainment': 1472, 'complex': 1004, 'nobody': 3122, 'mf': 2872, 'period': 3366, 'treasure': 4575, 'yard': 4958, 'surprised': 4346, 'shiny': 3995, 'lock': 2635, 'doctor': 1300, 'dan': 1160, 'sundae': 4316, 'heavy': 2073, 'facebook': 1549, 'workin': 4922, 'beloved': 412, 'addicted': 39, 'rockefeller': 3782, 'nite': 3117, 'ikea': 2227, 'seek': 3927, 'combo': 984, 'ryan': 3835, 'massage': 2796, 'chinese': 869, 'notice': 3150, 'settle': 3956, 'bam': 323, 'lookin': 2653, 'romantic': 3795, 'hairstylist': 1994, 'cow': 1078, 'thru': 4489, 'sdcc': 3907, 'jeff': 2357, 'asap': 214, 'cinema': 897, 'chitown': 872, 'rapids': 3641, 'question': 3607, 'voting': 4748, 'smh': 4092, 'gm': 1879, 'neck': 3066, 'gayboy': 1829, 'lgbt': 2578, 'travelgram': 4573, 'circus': 903, 'dodge': 1303, 'score': 3898, 'mud': 2998, 'hoover': 2159, 'skip': 4073, 'beef': 393, 'nose': 3145, 'clear': 922, 'hoping': 2163, 'casting': 764, 'headshot': 2062, 'walter': 4770, 'blackfriday': 470, 'playin': 3445, 'twins': 4626, 'patient': 3326, 'anybody': 160, 'beth': 429, 'kate': 2418, 'skating': 4068, 'rink': 3758, 'target': 4395, 'lawrence': 2530, 'remix': 3697, 'stlouis': 4258, 'gel': 1832, 'citizens': 905, 'balboa': 315, 'petty': 3377, 'brings': 602, 'lafayette': 2489, 'southeast': 4169, 'sort': 4158, 'sweetie': 4358, 'closer': 938, 'blurry': 501, 'shelf': 3983, 'none': 3128, 'foods': 1720, 'organic': 3240, 'bmw': 504, 'hunt': 2199, 'blend': 475, 'elite': 1438, 'insane': 2273, 'mistake': 2926, 'jam': 2338, 'barclays': 336, 'eagles': 1393, 'maze': 2814, 'pony': 3472, 'setup': 3957, 'alumni': 108, 'cinderella': 896, 'burgers': 660, 'graffiti': 1925, 'went': 4827, 'ep': 1477, 'preschool': 3520, 'goddess': 1886, 'knock': 2471, 'laura': 2524, 'katie': 2419, 'goofy': 1906, 'hours': 2176, 'montauk': 2962, 'pitbull': 3425, 'vans': 4690, 'except': 1519, 'ar': 185, 'kiddo': 2442, 'countdown': 1062, 'obx': 3184, 'cowboy': 1079, 'dry': 1366, 'journal': 2392, 'devil': 1247, 'pnc': 3459, 'speedway': 4185, 'ben': 414, 'windy': 4881, 'darkness': 1170, 'friendly': 1774, 'decade': 1198, 'riverbend': 3766, 'lineup': 2604, 'breast': 579, 'cancer': 713, 'cuteness': 1139, 'myhappyplace': 3024, 'prep': 3517, 'exercise': 1528, 'champion': 802, 'showing': 4024, 'superman': 4332, 'cherish': 843, 'palms': 3290, 'august': 249, 'hungry': 2198, 'tri': 4582, 'soulmate': 4160, 'moms': 2951, 'sweaty': 4355, 'bench': 415, 'dmv': 1296, 'aaron': 0, 'cottage': 1057, 'yelp': 4968, 'crushing': 1116, 'icon': 2215, 'butterfly': 676, 'bg': 440, 'grant': 1937, 'fairgrounds': 1561, 'squeeze': 4219, 'blame': 472, 'tiffany': 4498, 'gourmet': 1915, 'richard': 3744, 'lewis': 2575, 'cle': 919, 'edgewater': 1418, 'netflix': 3077, 'expression': 1538, 'meat': 2828, 'greens': 1948, 'fr': 1748, 'cabin': 683, 'norman': 3136, 'revolution': 3735, 'lb': 2535, 'inch': 2250, 'goodtimes': 1902, 'jay': 2351, 'dancer': 1163, 'warmer': 4780, 'rum': 3823, 'aint': 73, 'den': 1227, 'michael': 2879, 'harmony': 2031, 'korean': 2475, 'cards': 739, 'batman': 356, 'crossroads': 1111, 'naperville': 3039, 'marketplace': 2778, 'boulevard': 547, 'westside': 4835, 'hearts': 2068, 'clark': 912, 'walked': 4761, 'bakersfield': 311, 'henderson': 2082, 'fitfam': 1674, 'content': 1026, 'sara': 3871, 'study': 4289, 'aspen': 224, 'marco': 2764, 'anywhere': 166, 'saying': 3886, 'nicole': 3104, 'jacob': 2336, 'choreo': 879, 'cleaning': 921, 'then': 4458, 'lime': 2598, 'hartford': 2039, 'soccer': 4119, 'venue': 4704, 'oklahoma': 3205, 'cooler': 1040, 'amen': 119, 'lastnight': 2511, 'internet': 2294, 'pastor': 3321, 'total': 4542, 'pomona': 3469, 'needed': 3069, 'festive': 1631, 'account': 16, 'scar': 3888, 'clearwater': 924, 'berkeley': 419, 'recipe': 3666, 'clouds': 944, 'flatiron': 1688, 'lavender': 2527, 'obsess': 3180, 'fans': 1579, 'interior': 2292, 'forsyth': 1735, 'dish': 1279, 'westcoast': 4830, 'funeral': 1798, 'player': 3442, 'martha': 2787, 'nothin': 3148, 'bulldog': 651, 'finished': 1659, 'citizen': 904, 'runway': 3827, 'warren': 4782, 'rick': 3747, 'murica': 3006, 'savannah': 3882, 'cigar': 894, 'military': 2894, 'culture': 1124, 'ed': 1413, 'toms': 4528, 'affair': 59, 'bruno': 629, 'farewell': 1583, 'leaving': 2549, 'accessory': 14, 'any': 159, 'mo': 2934, 'personality': 3371, 'bracelet': 565, 'sesh': 3952, 'overload': 3265, 'cuties': 1142, 'stockton': 4260, 'few': 1634, 'glacier': 1866, 'rhythm': 3739, 'fab': 1546, 'bffs': 439, 'billy': 451, 'sin': 4045, 'realtor': 3660, 'hollow': 2132, 'going': 1889, 'xoxo': 4951, 'martini': 2789, 'mmmm': 2932, 'kindergarten': 2454, 'blunt': 500, 'sterling': 4252, 'plaid': 3430, 'ii': 2225, 'palette': 3288, 'que': 3604, 'islands': 2315, 'nacho': 3030, 'bubble': 637, 'loews': 2637, 'carly': 747, 'facts': 1554, 'couture': 1074, 'honored': 2152, 'charity': 816, 'vid': 4718, 'terminal': 4432, 'theta': 4462, 'tay': 4402, 'learning': 2545, 'quiet': 3611, 'goon': 1908, 'duval': 1386, 'standard': 4228, 'lakewood': 2496, 'adidas': 43, 'climb': 932, 'awareness': 275, 'sarah': 3872, 'festivity': 1632, 'fuckin': 1788, 'pumped': 3582, 'slippery': 4084, 'bra': 563, 'pursuit': 3596, 'shipping': 3998, 'patrick': 3329, 'lower': 2693, 'louie': 2670, 'sanctuary': 3862, 'behindthescenes': 401, 'told': 4522, 'them': 4456, 'treatment': 4577, 'photog': 3389, 'pioneer': 3421, 'lovelife': 2680, 'bat': 353, 'arbor': 186, 'justinbieber': 2410, 'decided': 1203, 'hut': 2209, 'lilly': 2596, 'frog': 1780, 'pointe': 3464, 'chain': 797, 'jamaica': 2339, 'mandalay': 2752, 'maker': 2739, 'struggle': 4283, 'extreme': 1541, 'inspire': 2277, 'master': 2798, 'bundle': 656, 'stratosphere': 4270, 'engage': 1462, 'however': 2181, 'lucy': 2702, 'potato': 3495, 'cocktails': 963, 'movement': 2987, 'safely': 3841, 'momlife': 2948, 'peoria': 3356, 'dam': 1157, 'calm': 696, 'pasta': 3320, 'booty': 534, 'tape': 4394, 'cannon': 719, 'lee': 2551, 'kelsey': 2429, 'sight': 4034, 'eating': 1408, 'methodist': 2866, 'sony': 4147, 'fail': 1556, 'matt': 2806, 'shelby': 3982, 'drew': 1351, 'pond': 3471, 'iloveyou': 2231, 'astros': 229, 'brook': 612, 'harbour': 2028, 'platinum': 3439, 'transformation': 4568, 'seal': 3912, 'photogenic': 3390, 'oops': 3224, 'sassy': 3875, 'tin': 4509, 'roof': 3800, 'rug': 3821, 'roommate': 3804, 'xo': 4950, 'buck': 638, 'longbeach': 2648, 'science': 3897, 'iii': 2226, 'cam': 698, 'newton': 3092, 'champs': 805, 'bone': 521, 'friyay': 1779, 'juicy': 2398, 'dusk': 1382, 'velvet': 4699, 'lighter': 2589, 'accurate': 17, 'added': 38, 'syracuse': 4367, 'staples': 4229, 'acl': 20, 'kingston': 2459, 'hater': 2047, 'prettiest': 3529, 'conservatory': 1023, 'jane': 2343, 'gene': 1834, 'dull': 1374, 'fear': 1603, 'hoop': 2157, 'follower': 1714, 'response': 3723, 'promenade': 3560, 'divine': 1290, 'hands': 2006, 'bistro': 462, 'cranberry': 1089, 'municipal': 3002, 'beta': 428, 'hashtag': 2044, 'terrace': 4433, 'northwest': 3143, 'dining': 1265, 'miamibeach': 2877, 'awesomeness': 279, 'awe': 277, 'daisy': 1152, 'hint': 2109, 'twirl': 4627, 'chloe': 873, 'hoodie': 2154, 'concord': 1008, 'plane': 3432, 'commercial': 995, 'comfy': 989, 'francis': 1751, 'sundance': 4317, 'thee': 4454, 'pizzeria': 3428, 'missin': 2920, 'gram': 1927, 'beachlife': 371, 'language': 2504, 'ruth': 3832, 'stan': 4226, 'production': 3550, 'roomy': 3805, 'roses': 3809, 'wwe': 4943, 'loyalty': 2696, 'ana': 134, 'basement': 345, 'sponsor': 4199, 'dollywood': 1314, 'growth': 1969, 'definition': 1216, 'labordayweekend': 2483, 'monster': 2960, 'soda': 4123, 'selection': 3930, 'shell': 3984, 'beaches': 369, 'van': 4688, 'midland': 2885, 'alexandria': 91, 'badass': 299, 'mouse': 2984, 'universalstudios': 4656, 'uniform': 4649, 'lebanon': 2550, 'pls': 3453, 'cane': 718, 'ringing': 3757, 'carlos': 745, 'coney': 1011, 'thinking': 4470, 'olympic': 3211, 'clermont': 926, 'avocado': 269, 'dub': 1369, 'dearly': 1194, 'ristorante': 3763, 'services': 3950, 'possibly': 3491, 'homework': 2143, 'hillaryclinton': 2105, 'exact': 1515, 'artsy': 211, 'folk': 1712, 'pie': 3406, 'streetart': 4274, 'patiently': 3327, 'kevin': 2435, 'repeat': 3702, 'yogurt': 4976, 'myboys': 3021, 'tonite': 4533, 'weirdo': 4821, 'spaghetti': 4175, 'emoji': 1451, 'judge': 2396, 'complain': 1001, 'williams': 4872, 'mothersday': 2977, 'greenwich': 1951, 'laborday': 2482, 'europe': 1497, 'cubs': 1121, 'sprint': 4213, 'wreath': 4935, 'arboretum': 187, 'mars': 2784, 'fireworks': 1668, 'brisket': 603, 'mon': 2952, 'nowhere': 3156, 'mannequinchallenge': 2756, 'cobb': 961, 'poetry': 3462, 'dive': 1289, 'yell': 4965, 'battle': 359, 'exam': 1517, 'heavenly': 2072, 'freeze': 1763, 'media': 2830, 'endless': 1460, 'songwriter': 4144, 'marietta': 2770, 'alright': 105, 'distillery': 1285, 'dawgs': 1181, 'stylist': 4298, 'forgot': 1731, 'copper': 1043, 'racing': 3618, 'handle': 2004, 'barbara': 333, 'gap': 1820, 'dakota': 1153, 'writer': 4939, 'frederick': 1758, 'irving': 2311, 'budweiser': 643, 'smooth': 4101, 'alamo': 83, 'mia': 2875, 'cheerleader': 835, 'droppin': 1360, 'jessica': 2365, 'which': 4847, 'kroger': 2476, 'shenandoah': 3986, 'rome': 3796, 'promo': 3562, 'direct': 1269, 'wellington': 4824, 'vine': 4725, 'africa': 61, 'echo': 1411, 'campfire': 705, 'flex': 1694, 'marion': 2774, 'kelly': 2428, 'gathering': 1826, 'lovers': 2685, 'arcade': 188, 'unless': 4659, 'takemeback': 4381, 'corps': 1051, 'jets': 2368, 'hs': 2184, 'ronald': 3799, 'ashley': 220, 'dr': 1339, 'timesquare': 4507, 'breathtaking': 582, 'expectation': 1531, 'godblessamerica': 1885, 'decor': 1206, 'usually': 4680, 'skyline': 4076, 'hyatt': 2210, 'gables': 1808, 'frozen': 1783, 'venicebeach': 4702, 'harris': 2034, 'spotted': 4207, 'jupiter': 2405, 'villa': 4723, 'thousand': 4480, 'colony': 977, 'giraffe': 1858, 'dreamer': 1346, 'championship': 804, 'htown': 2185, 'manage': 2749, 'sur': 4341, 'djlife': 1293, 'waking': 4759, 'supporter': 4336, 'arch': 189, 'spotify': 4205, 'suppose': 4339, 'sarasota': 3873, 'halo': 1998, 'lipstick': 2610, 'http': 2186, 'prefer': 3512, 'bellagio': 407, 'wdw': 4802, 'heck': 2074, 'newborn': 3085, 'actorslife': 30, 'nordstrom': 3133, 'meadows': 2825, 'huh': 2192, 'yankees': 4957, 'globe': 1873, 'christmastime': 887, 'patio': 3328, 'cinemas': 899, 'regrann': 3683, 'arrowhead': 204, 'fisherman': 1671, 'wharf': 4838, 'boone': 529, 'pickens': 3400, 'bourbon': 551, 'safety': 3842, 'alameda': 82, 'aladdin': 81, 'zion': 4995, 'craftbeer': 1088, 'vol': 4742, 'porch': 3481, 'build': 648, 'shall': 3970, 'squat': 4218, 'broad': 608, 'sheraton': 3989, 'recognize': 3667, 'oven': 3263, 'din': 1263, 'mass': 2794, 'inglewood': 2266, 'system': 4368, 'childhood': 859, 'reach': 3650, 'happyhour': 2022, 'blossom': 494, 'advance': 51, 'necessary': 3065, 'obligatory': 3178, 'dylan': 1388, 'rutgers': 3831, 'plenty': 3452, 'fin': 1649, 'greatness': 1944, 'santamonica': 3870, 'fade': 1555, 'abs': 7, 'progressive': 3557, 'flying': 1709, 'capital': 729, 'artbasel': 206, 'makes': 2740, 'artists': 209, 'merch': 2854, 'battery': 358, 'impossible': 2243, 'dinosaur': 1267, 'norwalk': 3144, 'outer': 3255, 'distance': 1284, 'psa': 3572, 'harvest': 2041, 'medicine': 2832, 'sat': 3876, 'itslit': 2326, 'ima': 2235, 'makeover': 2738, 'livemusic': 2622, 'weak': 4804, 'asian': 221, 'pin': 3415, 'inlet': 2269, 'tone': 4530, 'tribe': 4583, 'robert': 3779, 'zeta': 4994, 'aww': 282, 'nude': 3159, 'checking': 832, 'architecture': 190, 'temp': 4424, 'wod': 4901, 'thompson': 4476, 'goin': 1888, 'easton': 1404, 'rib': 3741, 'canton': 724, 'manchester': 2751, 'davenport': 1177, 'marshall': 2785, 'dental': 1229, 'sounds': 4164, 'instapic': 2284, 'bottom': 545, 'clutch': 951, 'visual': 4737, 'kindness': 2455, 'stunt': 4293, 'plum': 3455, 'jammin': 2341, 'neutral': 3078, 'eastern': 1403, 'fearless': 1604, 'demo': 1226, 'draw': 1344, 'addison': 40, 'imagination': 2237, 'pnw': 3460, 'mtsu': 2994, 'tie': 4497, 'lab': 2480, 'meme': 2843, 'william': 4871, 'thrill': 4482, 'bitches': 465, 'encinitas': 1456, 'edwards': 1425, 'beyonce': 435, 'sir': 4053, 'mgm': 2873, 'fields': 1637, 'ill': 2229, 'graduation': 1924, 'iu': 2328, 'mum': 3000, 'boise': 517, 'instadaily': 2280, 'hangout': 2011, 'happymothersday': 2023, 'temecula': 4423, 'caesars': 686, 'sissy': 4055, 'surgery': 4344, 'deliver': 1222, 'fierce': 1638, 'keeper': 2425, 'creep': 1100, 'cheap': 829, 'actual': 32, 'amber': 117, 'confidence': 1013, 'liketkit': 2594, 'guide': 1976, 'summerfest': 4312, 'imax': 2239, 'omni': 3214, 'browns': 624, 'bore': 536, 'semi': 3938, 'apparel': 172, 'limit': 2599, 'jet': 2367, 'basin': 349, 'gingerbread': 1857, 'leader': 2538, 'pineapple': 3417, 'pillow': 3414, 'biggie': 446, 'trend': 4581, 'rider': 3750, 'shorty': 4015, 'loudoun': 2669, 'goofball': 1905, 'opera': 3228, 'dancing': 1164, 'preserve': 3524, 'pig': 3410, 'marcos': 2765, 'bridgewater': 595, 'cole': 972, 'tub': 4605, 'bryant': 633, 'ali': 92, 'rio': 3759, 'fremont': 1764, 'vanilla': 4689, 'dale': 1154, 'brighton': 598, 'scout': 3901, 'jon': 2385, 'powerful': 3502, 'muscle': 3009, 'lagoon': 2490, 'caribbean': 743, 'goldengatebridge': 1892, 'ladygaga': 2488, 'friendsgiving': 1776, 'putting': 3600, 'happyfriday': 2019, 'teen': 4420, 'weho': 4818, 'volunteer': 4745, 'kickin': 2439, 'warner': 4781, 'beachday': 368, 'panthers': 3298, 'tcu': 4407, 'soaking': 4117, 'bedroom': 390, 'fenway': 1626, 'sis': 4054, 'dye': 1387, 'search': 3913, 'points': 3465, 'jerry': 2362, 'crossing': 1110, 'beanie': 375, 'wilderness': 4867, 'nba': 3059, 'prudential': 3570, 'snowman': 4112, 'murder': 3004, 'ham': 1999, 'riverdale': 3767, 'lookout': 2655, 'mygirls': 3023, 'austintx': 255, 'biscuit': 460, 'throwing': 4488, 'kanye': 2414, 'tabernacle': 4371, 'refuse': 3678, 'than': 4441, 'aventura': 264, 'billboard': 450, 'eddie': 1415, 'cooking': 1037, 'ross': 3810, 'beverlyhills': 434, 'shawn': 3978, 'bite': 466, 'woodland': 4914, 'bathroom': 355, 'suite': 4308, 'bryce': 634, 'camelback': 701, 'szn': 4369, 'amazon': 115, 'shots': 4017, 'patriot': 3330, 'selflove': 3935, 'opry': 3230, 'hangin': 2009, 'beautifully': 383, 'planning': 3434, 'kit': 2463, 'milk': 2895, 'unit': 4652, 'document': 1301, 'award': 273, 'plug': 3454, 'fishing': 1672, 'nearly': 3063, 'both': 543, 'jess': 2364, 'outlet': 3257, 'sail': 3844, 'visitor': 4735, 'yourself': 4984, 'nash': 3041, 'neverland': 3082, 'riding': 3753, 'glutenfree': 1878, 'vinyl': 4729, 'reno': 3699, 'scenery': 3892, 'ugh': 4638, 'letter': 2573, 'soundcheck': 4162, 'willow': 4874, 'bayside': 361, 'packing': 3277, 'bid': 442, 'nu': 3158, 'englewood': 1465, 'draft': 1340, 'baldwin': 317, 'gracie': 1920, 'jw': 2411, 'dia': 1249, 'chin': 866, 'metal': 2865, 'jerk': 2361, 'layer': 2533, 'essence': 1491, 'ass': 225, 'blondie': 489, 'shades': 3967, 'jefferson': 2358, 'soundcloud': 4163, 'director': 1271, 'haunted': 2048, 'zumba': 4999, 'boyz': 562, 'charlottesville': 821, 'mane': 2753, 'condo': 1009, 'potd': 3496, 'arrival': 202, 'dearborn': 1193, 'certain': 794, 'supper': 4333, 'chatham': 827, 'fellowship': 1623, 'asheville': 218, 'paddle': 3278, 'britney': 606, 'mate': 2803, 'ou': 3249, 'goose': 1909, 'popcorn': 3476, 'career': 741, 'bloomington': 493, 'tony': 4534, 'brooklynbridge': 615, 'loyal': 2695, 'bahama': 304, 'cupcakes': 1129, 'spiderman': 4192, 'decent': 1201, 'rusty': 3830, 'reward': 3736, 'familiar': 1572, 'stripe': 4280, 'emma': 1450, 'goober': 1896, 'atlantis': 239, 'treats': 4578, 'andrea': 138, 'awake': 272, 'disco': 1275, 'bucket': 639, 'sonoma': 4146, 'pines': 3418, 'brazil': 574, 'brandon': 571, 'howard': 2180, 'lucas': 2699, 'electric': 1433, 'cod': 967, 'lick': 2581, 'monkey': 2958, 'rv': 3833, 'entrepreneur': 1474, 'autism': 257, 'mixed': 2929, 'rnb': 3772, 'phenomenal': 3378, 'retro': 3729, 'cinemark': 898, 'hr': 2183, 'sense': 3943, 'coco': 964, 'fairy': 1563, 'duluth': 1375, 'tracy': 4559, 'picking': 3401, 'twenty': 4620, 'harvard': 2040, 'trunk': 4599, 'djs': 1294, 'slip': 4083, 'excitement': 1523, 'improv': 2246, 'testing': 4435, 'dedicate': 1209, 'athletics': 235, 'hawks': 2054, 'staten': 4239, 'ash': 217, 'volleyball': 4743, 'nike': 3112, 'yeezy': 4964, 'brad': 566, 'sophomore': 4155, 'enrique': 1470, 'abc': 3, 'lux': 2710, 'puppylove': 3589, 'farmer': 1586, 'feed': 1613, 'stephen': 4251, 'everglades': 1506, 'clown': 946, 'cheesy': 840, 'chandler': 807, 'barely': 337, 'gilbert': 1855, 'kendall': 2430, 'mississauga': 2923, 'fifth': 1640, 'parkway': 3309, 'overlook': 3266, 'thunder': 4491, 'dean': 1191, 'runyon': 3828, 'supportive': 4338, 'lip': 2609, 'sh': 3964, 'pot': 3494, 'beats': 380, 'nations': 3050, 'killer': 2447, 'jen': 2360, 'productive': 3551, 'mammoth': 2747, 'powder': 3500, 'dock': 1299, 'soooooo': 4153, 'newyearseve': 3094, 'tbh': 4405, 'nova': 3153, 'ab': 1, 'ridiculous': 3752, 'meow': 2853, 'mybaby': 3019, 'midway': 2888, 'attempt': 240, 'outdoors': 3254, 'association': 227, 'avalon': 262, 'spotlight': 4206, 'waco': 4753, 'seaside': 3914, 'grandfather': 1932, 'interstate': 2295, 'grilled': 1958, 'naturalhair': 3052, 'chico': 856, 'filming': 1646, 'danny': 1168, 'hurry': 2204, 'unreal': 4660, 'carefree': 742, 'fully': 1793, 'frank': 1753, 'hahahaha': 1990, 'melting': 2841, 'loft': 2638, 'cherokee': 844, 'chanel': 808, 'blackandwhite': 469, 'burnt': 664, 'tommy': 4526, 'lex': 2576, 'awhile': 280, 'shooter': 4005, 'montclair': 2963, 'largo': 2507, 'traditional': 4562, 'clay': 917, 'sharp': 3976, 'northside': 3142, 'maid': 2731, 'scentsy': 3894, 'resident': 3718, 'oceanside': 3189, 'hump': 2196, 'define': 1214, 'drug': 1362, 'shrine': 4027, 'extension': 1539, 'leadership': 2539, 'ron': 3798, 'whose': 4856, 'split': 4197, 'enchanted': 1455, 'resolution': 3720, 'aviation': 268, 'playhouse': 3444, 'wth': 4942, 'security': 3923, 'sculpture': 3905, 'acoustic': 21, 'kissimmee': 2462, 'conservation': 1022, 'tent': 4430, 'clue': 950, 'blackgirlmagic': 471, 'zach': 4991, 'advantage': 52, 'aria': 194, 'nov': 3152, 'fairmont': 1562, 'audition': 246, 'whitney': 4852, 'pandora': 3294, 'longhorn': 2650, 'voodoo': 4746, 'feet': 1618, 'sticker': 4255, 'kona': 2474, 'vodka': 4740, 'jax': 2350, 'ponce': 3470, 'panera': 3295, 'comingsoon': 993, 'symphony': 4366, 'penny': 3353, 'silk': 4038, 'boost': 530, 'didnt': 1253, 'rocket': 3783, 'gluten': 1877, 'mario': 2773, 'setting': 3955, 'pinnacle': 3420, 'thug': 4490, 'load': 2629, 'clubs': 949, 'modeling': 2940, 'oceanfront': 3188, 'bedtime': 391, 'shes': 3991, 'intro': 2298, 'carrie': 753, 'falling': 1567, 'worthy': 4931, 'girlies': 1861, 'easily': 1400, 'fantasy': 1581, 'regranned': 3684, 'kansascity': 2413, 'megan': 2837, 'caleb': 690, 'avon': 270, 'woodbridge': 4913, 'corvette': 1052, 'styled': 4296, 'arnold': 200, 'fieldhouse': 1636, 'naw': 3058, 'noah': 3120}\n"
     ]
    }
   ],
   "source": [
    "print(Tfidf_vect.vocabulary_)"
   ]
  },
  {
   "cell_type": "code",
   "execution_count": 24,
   "metadata": {
    "colab": {
     "base_uri": "https://localhost:8080/"
    },
    "id": "Kqw3MVu5UrrE",
    "outputId": "a3ebfbcc-4b57-49c4-dccb-63b9ff705f78"
   },
   "outputs": [
    {
     "name": "stdout",
     "output_type": "stream",
     "text": [
      "  (0, 4722)\t0.35565187272634474\n",
      "  (0, 4289)\t0.3616942551278862\n",
      "  (0, 3305)\t0.19453496239982662\n",
      "  (0, 2845)\t0.29523399936644096\n",
      "  (0, 2737)\t0.19848999561637676\n",
      "  (0, 2618)\t0.20647687223098654\n",
      "  (0, 2593)\t0.1964532448048763\n",
      "  (0, 2487)\t0.25805782457877297\n",
      "  (0, 2379)\t0.353460874205905\n",
      "  (0, 1405)\t0.3155394216994392\n",
      "  (0, 463)\t0.30633823150393125\n",
      "  (0, 455)\t0.3348440257603124\n",
      "  (1, 4817)\t0.3600223024971231\n",
      "  (1, 4788)\t0.5679331132474866\n",
      "  (1, 1987)\t0.4218574036019009\n",
      "  (1, 1859)\t0.33824314091868896\n",
      "  (1, 382)\t0.33473488420284003\n",
      "  (1, 114)\t0.3787035602250416\n",
      "  (2, 3817)\t0.4463323304330442\n",
      "  (2, 3222)\t0.36728783628374284\n",
      "  (2, 3199)\t0.33854647978859637\n",
      "  (2, 3010)\t0.3625230968472092\n",
      "  (2, 1258)\t0.42561563761053395\n",
      "  (2, 66)\t0.4885710904511763\n",
      "  (3, 4678)\t0.15848348291279798\n",
      "  :\t:\n",
      "  (55996, 4811)\t0.38881804141076964\n",
      "  (55996, 4678)\t0.13874583180874003\n",
      "  (55996, 3999)\t0.3892905625235034\n",
      "  (55996, 2722)\t0.3932330554729525\n",
      "  (55996, 1845)\t0.3627137280213782\n",
      "  (55996, 1773)\t0.2557326906050705\n",
      "  (55996, 1350)\t0.3586003241939424\n",
      "  (55997, 3659)\t0.39805149747015384\n",
      "  (55997, 2827)\t0.4542157958535473\n",
      "  (55997, 2593)\t0.30539370011780764\n",
      "  (55997, 2044)\t0.6257253309020976\n",
      "  (55997, 1614)\t0.3878730647450423\n",
      "  (55998, 4892)\t0.33454535113713396\n",
      "  (55998, 4823)\t0.29212759832089563\n",
      "  (55998, 4445)\t0.2504028859651542\n",
      "  (55998, 4437)\t0.4263426095848226\n",
      "  (55998, 3947)\t0.3872565350295278\n",
      "  (55998, 3492)\t0.3083616911960387\n",
      "  (55998, 3018)\t0.21051279658738078\n",
      "  (55998, 2997)\t0.25788871409865977\n",
      "  (55998, 1792)\t0.3199121371483324\n",
      "  (55998, 694)\t0.31630790360478195\n",
      "  (55999, 3012)\t0.5385675791909736\n",
      "  (55999, 1997)\t0.6311984422830452\n",
      "  (55999, 975)\t0.558151851294817\n"
     ]
    }
   ],
   "source": [
    "print(Train_X_Tfidf)"
   ]
  },
  {
   "cell_type": "markdown",
   "metadata": {
    "id": "3oebruIXUyda"
   },
   "source": []
  },
  {
   "cell_type": "code",
   "execution_count": 30,
   "metadata": {
    "colab": {
     "base_uri": "https://localhost:8080/"
    },
    "id": "SyIQ28sWUz7e",
    "outputId": "97b17459-8f73-4417-e085-f39865474f37"
   },
   "outputs": [
    {
     "data": {
      "text/plain": [
       "MultinomialNB()"
      ]
     },
     "execution_count": 30,
     "metadata": {},
     "output_type": "execute_result"
    }
   ],
   "source": [
    "# fit the training dataset on the NB classifier\n",
    "\n",
    "Naive = naive_bayes.MultinomialNB()\n",
    "Naive.fit(Train_X_Tfidf, Train_Y)\n",
    "\n",
    "# Predict the labels on validation dataset\n",
    "# predictions_NB = Naive.predict(Test_X_Tfidf)\n",
    "\n",
    "# Accuracy_score function to get the accuracy\n",
    "#print(\"Naive Bayes Accuracy Score -> \",accuracy_score(predictions_NB, Test_Y)*100)\n",
    "\n",
    "#todo: 0.3 test size : Naive Bayes Accuracy Score ->  30.29047619047619\n",
    "#todo: 8 label : Naive Bayes Accuracy Score ->  33.5809523809523\n",
    "\n",
    "# 4 sınıf ile Naive Bayes Accuracy Score ->  44.95"
   ]
  },
  {
   "cell_type": "code",
   "execution_count": 26,
   "metadata": {},
   "outputs": [
    {
     "data": {
      "text/plain": [
       "(56000, 52995)"
      ]
     },
     "execution_count": 26,
     "metadata": {},
     "output_type": "execute_result"
    }
   ],
   "source": [
    "# new\n",
    "from sklearn.feature_extraction.text import CountVectorizer\n",
    "count_vect = CountVectorizer()\n",
    "X_train_counts = count_vect.fit_transform(Train_X)\n",
    "X_train_counts.shape\n"
   ]
  },
  {
   "cell_type": "code",
   "execution_count": 27,
   "metadata": {},
   "outputs": [
    {
     "data": {
      "text/plain": [
       "(56000, 52995)"
      ]
     },
     "execution_count": 27,
     "metadata": {},
     "output_type": "execute_result"
    }
   ],
   "source": [
    "# new\n",
    "from sklearn.feature_extraction.text import TfidfTransformer\n",
    "tfidf_transformer = TfidfTransformer()\n",
    "X_train_tfidf = tfidf_transformer.fit_transform(X_train_counts)\n",
    "X_train_tfidf.shape"
   ]
  },
  {
   "cell_type": "code",
   "execution_count": 28,
   "metadata": {},
   "outputs": [
    {
     "name": "stdout",
     "output_type": "stream",
     "text": [
      "  (0, 49869)\t0.35277798132429095\n",
      "  (0, 44504)\t0.3777146042071277\n",
      "  (0, 34960)\t0.19386063663538988\n",
      "  (0, 29601)\t0.29836393081354207\n",
      "  (0, 28428)\t0.19795667659732027\n",
      "  (0, 26930)\t0.20640756086609577\n",
      "  (0, 26690)\t0.19604181328769063\n",
      "  (0, 25613)\t0.25680366908182095\n",
      "  (0, 23995)\t0.3465712924107814\n",
      "  (0, 13483)\t0.3134272317231062\n",
      "  (0, 4639)\t0.3050036640088636\n",
      "  (0, 4562)\t0.3297414481731791\n",
      "  (1, 50785)\t0.2970022592478806\n",
      "  (1, 50455)\t0.45855158644870425\n",
      "  (1, 26781)\t0.5759368119852247\n",
      "  (1, 19390)\t0.34623516432893814\n",
      "  (1, 17950)\t0.27854353684485356\n",
      "  (1, 3689)\t0.27637211524343835\n",
      "  (1, 1124)\t0.3097903357873969\n",
      "  (2, 39635)\t0.37851455158748404\n",
      "  (2, 39447)\t0.5304128028021133\n",
      "  (2, 34109)\t0.31056895508506965\n",
      "  (2, 33746)\t0.2883336776352098\n",
      "  (2, 31437)\t0.30691233218485314\n",
      "  (2, 12039)\t0.36400439626986375\n",
      "  :\t:\n",
      "  (55996, 17785)\t0.362308477638463\n",
      "  (55996, 16860)\t0.25625138454885854\n",
      "  (55996, 13024)\t0.35732014418043306\n",
      "  (55997, 38137)\t0.32516965750911486\n",
      "  (55997, 29388)\t0.3668915873952795\n",
      "  (55997, 29384)\t0.5904406883772263\n",
      "  (55997, 26690)\t0.24810352351672596\n",
      "  (55997, 19998)\t0.5008895639195529\n",
      "  (55997, 15376)\t0.31398938965778733\n",
      "  (55998, 51674)\t0.3328248699740228\n",
      "  (55998, 50886)\t0.29229039826629233\n",
      "  (55998, 46251)\t0.2494120533429535\n",
      "  (55998, 46185)\t0.42858836595735306\n",
      "  (55998, 41156)\t0.3915110563947348\n",
      "  (55998, 36633)\t0.30684116787858207\n",
      "  (55998, 31532)\t0.2090793865522032\n",
      "  (55998, 31297)\t0.25707767916642715\n",
      "  (55998, 17089)\t0.31915379174780806\n",
      "  (55998, 6871)\t0.31433245750845695\n",
      "  (55999, 31450)\t0.27314575882748604\n",
      "  (55999, 19556)\t0.5164986242289052\n",
      "  (55999, 19545)\t0.3184091005941976\n",
      "  (55999, 19543)\t0.45893175264932157\n",
      "  (55999, 9317)\t0.2825721639561637\n",
      "  (55999, 4079)\t0.5164986242289052\n"
     ]
    }
   ],
   "source": [
    "print(X_train_tfidf)"
   ]
  },
  {
   "cell_type": "code",
   "execution_count": 31,
   "metadata": {},
   "outputs": [],
   "source": [
    "# new\n",
    "from sklearn.pipeline import Pipeline\n",
    "text_clf = Pipeline([('vect', CountVectorizer()),\n",
    "                    ('tfidf', TfidfTransformer()),\n",
    "                    ('clf', Naive),])\n",
    "text_clf=text_clf.fit(Train_X, Train_Y)"
   ]
  },
  {
   "cell_type": "code",
   "execution_count": 32,
   "metadata": {},
   "outputs": [
    {
     "data": {
      "text/plain": [
       "0.6766785714285715"
      ]
     },
     "execution_count": 32,
     "metadata": {},
     "output_type": "execute_result"
    }
   ],
   "source": [
    "# new\n",
    "predicted = text_clf.predict(Train_X)\n",
    "np.mean(predicted == Train_Y)"
   ]
  },
  {
   "cell_type": "code",
   "execution_count": 33,
   "metadata": {},
   "outputs": [
    {
     "name": "stdout",
     "output_type": "stream",
     "text": [
      "[[ 5231   801  2095  3915]\n",
      " [  199  9474   875  3307]\n",
      " [  431   848  8757  3602]\n",
      " [  238   959   836 14432]]\n"
     ]
    }
   ],
   "source": [
    "# new\n",
    "from sklearn.metrics import confusion_matrix\n",
    "cm = confusion_matrix(Train_Y, predicted)\n",
    "print(cm)"
   ]
  },
  {
   "cell_type": "code",
   "execution_count": 34,
   "metadata": {},
   "outputs": [
    {
     "data": {
      "image/png": "[encoded data removed]",
      "text/plain": [
       "<Figure size 432x288 with 1 Axes>"
      ]
     },
     "metadata": {},
     "output_type": "display_data"
    }
   ],
   "source": [
    "import matplotlib.pyplot as plt\n",
    "mat = confusion_matrix(Train_Y, predicted)\n",
    "sns.heatmap(mat.T, square=True, annot=True, fmt='d', cbar=False)\n",
    "plt.xlabel('true label')\n",
    "plt.ylabel('predicted label');"
   ]
  },
  {
   "cell_type": "code",
   "execution_count": 35,
   "metadata": {},
   "outputs": [
    {
     "name": "stdout",
     "output_type": "stream",
     "text": [
      "              precision    recall  f1-score   support\n",
      "\n",
      "           0       0.86      0.43      0.58     12042\n",
      "           1       0.78      0.68      0.73     13855\n",
      "           2       0.70      0.64      0.67     13638\n",
      "           3       0.57      0.88      0.69     16465\n",
      "\n",
      "    accuracy                           0.68     56000\n",
      "   macro avg       0.73      0.66      0.67     56000\n",
      "weighted avg       0.72      0.68      0.67     56000\n",
      "\n"
     ]
    }
   ],
   "source": [
    "from sklearn.metrics import classification_report\n",
    "print(classification_report(Train_Y, predicted,\n",
    "                            #target_names = mapping.emoticons\n",
    "                           ))"
   ]
  },
  {
   "cell_type": "code",
   "execution_count": 37,
   "metadata": {},
   "outputs": [
    {
     "name": "stdout",
     "output_type": "stream",
     "text": [
      "[3 0 2 ... 1 0 0]\n"
     ]
    }
   ],
   "source": [
    "#print(Train_Y)"
   ]
  },
  {
   "cell_type": "code",
   "execution_count": 36,
   "metadata": {},
   "outputs": [
    {
     "name": "stdout",
     "output_type": "stream",
     "text": [
      "[3 3 3 ... 1 2 0]\n"
     ]
    }
   ],
   "source": [
    "#print(predicted)"
   ]
  },
  {
   "cell_type": "code",
   "execution_count": 56,
   "metadata": {},
   "outputs": [],
   "source": [
    "#SVM"
   ]
  },
  {
   "cell_type": "code",
   "execution_count": 57,
   "metadata": {},
   "outputs": [
    {
     "data": {
      "text/plain": [
       "0.7148035714285714"
      ]
     },
     "execution_count": 57,
     "metadata": {},
     "output_type": "execute_result"
    }
   ],
   "source": [
    "from sklearn.linear_model import SGDClassifier\n",
    "text_clf_svm = Pipeline([('vect', CountVectorizer()),\n",
    "                         ('tfidf', TfidfTransformer()),\n",
    "                         ('clf-svm', SGDClassifier(loss='hinge',\n",
    "                                                   penalty='l2',\n",
    "                                                   alpha=1e-3, \n",
    "                                                   random_state=42)),\n",
    "                         ])\n",
    "text_clf_svm.fit(Train_X, Train_Y)\n",
    "\n",
    "    \n",
    "predicted_svm = text_clf_svm.predict(Train_X)\n",
    "\n",
    "\n",
    "np.mean(predicted_svm == Train_Y)\n"
   ]
  },
  {
   "cell_type": "code",
   "execution_count": 66,
   "metadata": {},
   "outputs": [
    {
     "name": "stdout",
     "output_type": "stream",
     "text": [
      "[[ 7502  1211  1424  1905]\n",
      " [  384 11119   666  1686]\n",
      " [ 1108  1592  8806  2132]\n",
      " [  657  2289   917 12602]]\n"
     ]
    }
   ],
   "source": [
    "from sklearn.metrics import confusion_matrix\n",
    "cm = confusion_matrix(Train_Y, predicted_svm)\n",
    "print(cm)"
   ]
  },
  {
   "cell_type": "code",
   "execution_count": 67,
   "metadata": {},
   "outputs": [
    {
     "data": {
      "image/png": "[encoded data removed]",
      "text/plain": [
       "<Figure size 432x288 with 1 Axes>"
      ]
     },
     "metadata": {},
     "output_type": "display_data"
    }
   ],
   "source": [
    "mat = confusion_matrix(Train_Y, predicted_svm)\n",
    "sns.heatmap(mat.T, square=True, annot=True, fmt='d', cbar=False)\n",
    "plt.xlabel('true label')\n",
    "plt.ylabel('predicted label');"
   ]
  },
  {
   "cell_type": "code",
   "execution_count": 70,
   "metadata": {},
   "outputs": [
    {
     "name": "stdout",
     "output_type": "stream",
     "text": [
      "              precision    recall  f1-score   support\n",
      "\n",
      "           0       0.78      0.62      0.69     12042\n",
      "           1       0.69      0.80      0.74     13855\n",
      "           2       0.75      0.65      0.69     13638\n",
      "           3       0.69      0.77      0.72     16465\n",
      "\n",
      "    accuracy                           0.71     56000\n",
      "   macro avg       0.72      0.71      0.71     56000\n",
      "weighted avg       0.72      0.71      0.71     56000\n",
      "\n"
     ]
    }
   ],
   "source": [
    "from sklearn.metrics import classification_report\n",
    "print(classification_report(Train_Y, predicted_svm,\n",
    "                            ))"
   ]
  },
  {
   "cell_type": "code",
   "execution_count": 58,
   "metadata": {},
   "outputs": [],
   "source": [
    "#from sklearn.metrics import confusion_matrix\n",
    "#cm = confusion_matrix(Test_Y, predictions_NB)\n",
    "#print(cm)"
   ]
  },
  {
   "cell_type": "code",
   "execution_count": 59,
   "metadata": {},
   "outputs": [],
   "source": [
    "#from sklearn.metrics import accuracy_score\n",
    "#accuracy = accuracy_score(Test_Y, predictions_NB)\n",
    "#print(accuracy)"
   ]
  },
  {
   "cell_type": "code",
   "execution_count": 60,
   "metadata": {},
   "outputs": [],
   "source": [
    "#import matplotlib.pyplot as plt\n",
    "#from sklearn.metrics import confusion_matrix\n",
    "#mat = confusion_matrix(Test_Y, predictions_NB)\n",
    "#sns.heatmap(mat.T, square=True, annot=True, fmt='d', cbar=False)\n",
    "\n",
    "#plt.xlabel('true label')\n",
    "#plt.ylabel('predicted label');"
   ]
  },
  {
   "cell_type": "code",
   "execution_count": 65,
   "metadata": {},
   "outputs": [],
   "source": [
    "#Train_X_Tfidf.toarray()"
   ]
  },
  {
   "cell_type": "code",
   "execution_count": 64,
   "metadata": {
    "colab": {
     "base_uri": "https://localhost:8080/"
    },
    "id": "yMURqm0XU9cs",
    "outputId": "81b54768-e49a-4b62-c09f-b5ce72035e7f"
   },
   "outputs": [],
   "source": [
    "# Classifier - Algorithm - SVM\n",
    "# fit the training dataset on the classifier\n",
    "\n",
    "#SVM = svm.SVC(C=1.0, kernel='poly', degree=8, gamma='auto')\n",
    "\n",
    "# SVM = svm.SVC(C=1.0, kernel='linear', gamma='auto')\n",
    "# SVM.fit(Train_X_Tfidf, Train_Y)\n",
    "# predict the labels on validation dataset\n",
    "# predictions_SVM = SVM.predict(Test_X_Tfidf)\n",
    "# Use accuracy_score function to get the accuracy\n",
    "# print(\"SVM Accuracy Score -> \", accuracy_score(predictions_SVM, Test_Y)*100)"
   ]
  },
  {
   "cell_type": "code",
   "execution_count": 68,
   "metadata": {},
   "outputs": [],
   "source": [
    "#from sklearn.svm import SVC\n",
    "#print(SVC().get_params())"
   ]
  },
  {
   "cell_type": "code",
   "execution_count": 72,
   "metadata": {},
   "outputs": [
    {
     "name": "stderr",
     "output_type": "stream",
     "text": [
      "/Users/tcobalkaya/opt/anaconda3/lib/python3.8/site-packages/matplotlib/backends/backend_agg.py:238: RuntimeWarning: Glyph 128540 missing from current font.\n",
      "  font.set_text(s, 0.0, flags=flags)\n",
      "/Users/tcobalkaya/opt/anaconda3/lib/python3.8/site-packages/matplotlib/backends/backend_agg.py:238: RuntimeWarning: Glyph 128248 missing from current font.\n",
      "  font.set_text(s, 0.0, flags=flags)\n",
      "/Users/tcobalkaya/opt/anaconda3/lib/python3.8/site-packages/matplotlib/backends/backend_agg.py:238: RuntimeWarning: Glyph 128153 missing from current font.\n",
      "  font.set_text(s, 0.0, flags=flags)\n",
      "/Users/tcobalkaya/opt/anaconda3/lib/python3.8/site-packages/matplotlib/backends/backend_agg.py:238: RuntimeWarning: Glyph 10084 missing from current font.\n",
      "  font.set_text(s, 0.0, flags=flags)\n",
      "/Users/tcobalkaya/opt/anaconda3/lib/python3.8/site-packages/matplotlib/backends/backend_agg.py:201: RuntimeWarning: Glyph 128540 missing from current font.\n",
      "  font.set_text(s, 0, flags=flags)\n",
      "/Users/tcobalkaya/opt/anaconda3/lib/python3.8/site-packages/matplotlib/backends/backend_agg.py:201: RuntimeWarning: Glyph 128248 missing from current font.\n",
      "  font.set_text(s, 0, flags=flags)\n",
      "/Users/tcobalkaya/opt/anaconda3/lib/python3.8/site-packages/matplotlib/backends/backend_agg.py:201: RuntimeWarning: Glyph 128153 missing from current font.\n",
      "  font.set_text(s, 0, flags=flags)\n",
      "/Users/tcobalkaya/opt/anaconda3/lib/python3.8/site-packages/matplotlib/backends/backend_agg.py:201: RuntimeWarning: Glyph 10084 missing from current font.\n",
      "  font.set_text(s, 0, flags=flags)\n"
     ]
    },
    {
     "data": {
      "image/png": "[encoded data removed]",
      "text/plain": [
       "<Figure size 720x504 with 2 Axes>"
      ]
     },
     "metadata": {
      "needs_background": "light"
     },
     "output_type": "display_data"
    }
   ],
   "source": [
    "%matplotlib inline\n",
    "import seaborn as sn\n",
    "import pandas as pd\n",
    "import matplotlib.pyplot as plt\n",
    "\n",
    "l = mapping.emoticons\n",
    "\n",
    "df_cm = pd.DataFrame(mat, index = l, columns = l)\n",
    "plt.figure(figsize = (10,7))\n",
    "sn.heatmap(df_cm, annot=True, fmt=\"d\")\n",
    "plt.show()"
   ]
  },
  {
   "cell_type": "code",
   "execution_count": null,
   "metadata": {},
   "outputs": [],
   "source": []
  },
  {
   "cell_type": "code",
   "execution_count": null,
   "metadata": {},
   "outputs": [],
   "source": []
  }
 ],
 "metadata": {
  "colab": {
   "collapsed_sections": [],
   "name": "Untitled10.ipynb",
   "provenance": []
  },
  "kernelspec": {
   "display_name": "Python 3",
   "language": "python",
   "name": "python3"
  },
  "language_info": {
   "codemirror_mode": {
    "name": "ipython",
    "version": 3
   },
   "file_extension": ".py",
   "mimetype": "text/x-python",
   "name": "python",
   "nbconvert_exporter": "python",
   "pygments_lexer": "ipython3",
   "version": "3.8.8"
  }
 },
 "nbformat": 4,
 "nbformat_minor": 1
}
